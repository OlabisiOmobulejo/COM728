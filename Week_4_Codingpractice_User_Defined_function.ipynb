{
 "cells": [
  {
   "cell_type": "markdown",
   "id": "abf1274c",
   "metadata": {},
   "source": [
    "SIMPLE_FUNCTION"
   ]
  },
  {
   "cell_type": "code",
   "execution_count": 1,
   "id": "777455ff",
   "metadata": {},
   "outputs": [
    {
     "name": "stdout",
     "output_type": "stream",
     "text": [
      "What sound did I hear? Bang\n",
      "That was a loud Bang!\n"
     ]
    }
   ],
   "source": [
    " #Define the listen function\n",
    "    \n",
    "def listen():\n",
    "    \n",
    "    # Enter your question\n",
    "\n",
    "    sound = input(\"What sound did I hear? \")\n",
    "    \n",
    "    # Response\n",
    "    \n",
    "    print(f\"That was a loud {sound}!\")\n",
    "\n",
    "# Call the listen function\n",
    "listen()"
   ]
  },
  {
   "cell_type": "markdown",
   "id": "2f220d17",
   "metadata": {},
   "source": [
    "FUNCTION_WITH_CONDITION"
   ]
  },
  {
   "cell_type": "code",
   "execution_count": 7,
   "id": "2ac289c1",
   "metadata": {},
   "outputs": [
    {
     "name": "stdout",
     "output_type": "stream",
     "text": [
      "What lies before us?a large boulder\n",
      "It's time to run!\n"
     ]
    }
   ],
   "source": [
    "# Define and 'identify' a function with no parameters\n",
    "def identify():\n",
    "    # Ask the user to enter a word representing what they see\n",
    "    user_input = input(\"What lies before us?\")\n",
    "\n",
    "    # user response \"a large boulder\"\n",
    "    if user_input == \"a large boulder\":\n",
    "        # If it is, display the message \"It's time to run!\"\n",
    "        print(\"It's time to run!\")\n",
    "    else:\n",
    "        # If it's not, the message \"We will be fine.\"\n",
    "        print(\"We will be fine.\")\n",
    "\n",
    "# Call the 'identify' function\n",
    "identify()\n"
   ]
  },
  {
   "cell_type": "markdown",
   "id": "4c0e46fc",
   "metadata": {},
   "source": [
    "FUNCTION_WITH_PARAMETERS"
   ]
  },
  {
   "cell_type": "code",
   "execution_count": 4,
   "id": "c092921d",
   "metadata": {},
   "outputs": [
    {
     "name": "stdout",
     "output_type": "stream",
     "text": [
      "We cannot escape that way! The boulder is too big!\n",
      "We cannot escape that way! The boulder is moving too fast!\n",
      "That might just work! Let's go deeper!\n"
     ]
    }
   ],
   "source": [
    "# Define a function escape function with plan as parameter\n",
    "\n",
    "def escape(plan):\n",
    "    \n",
    "  # Check the value of the plan \n",
    "\n",
    "    if plan == \"jumping over\":\n",
    "        print(\"We cannot escape that way! The boulder is too big!\")\n",
    "    elif plan == \"running around\":\n",
    "        print(\"We cannot escape that way! The boulder is moving too fast!\")\n",
    "    elif plan == \"going deeper\":\n",
    "        print(\"That might just work! Let's go deeper!\")\n",
    "    else:\n",
    "        print(\"We cannot escape that way! The boulder is in the way!\")\n",
    "\n",
    "# function caller\n",
    "\n",
    "escape(\"jumping over\")\n",
    "escape(\"running around\")\n",
    "escape(\"going deeper\")\n"
   ]
  },
  {
   "cell_type": "markdown",
   "id": "a7064c3b",
   "metadata": {},
   "source": [
    "RETURN VALUES"
   ]
  },
  {
   "cell_type": "code",
   "execution_count": 9,
   "id": "7a736d8f",
   "metadata": {},
   "outputs": [
    {
     "name": "stdout",
     "output_type": "stream",
     "text": [
      "What is the weight of Bop?35\n",
      "What is the weight of Beep?45\n",
      "What would you like to calculate (sum or average)?average\n",
      "The average weight of Beep and Bop is 40.00\n"
     ]
    }
   ],
   "source": [
    "#  'sum_weights' representing the weight of each bot\n",
    "\n",
    "def sum_weights(weight_bop, weight_beep):\n",
    "    \n",
    "    # Calculate the total weight by adding the weights of Bop and Beep\n",
    "    total_weight = weight_bop + weight_beep\n",
    "    return total_weight\n",
    "\n",
    "# calc_avg_weight' representing the weight of each bot\n",
    "\n",
    "def calc_avg_weight(weight_bop, weight_beep):\n",
    "    # Calculate the average weight by calling the 'sum_weights' function and dividing by 2\n",
    "    average_weight = sum_weights(weight_bop, weight_beep) / 2\n",
    "    # Return the average weight\n",
    "    return average_weight\n",
    "\n",
    "# Define the third function without the bots\n",
    "\n",
    "def run():\n",
    "    \n",
    "    #  the user to enter the weight of Bop and Beep\n",
    "    \n",
    "    weight_bop = float(input(\"What is the weight of Bop?\"))\n",
    "    weight_beep = float(input(\"What is the weight of Beep?\"))\n",
    "\n",
    "    # Ask user for calculation parameter (sum or average)\n",
    "    calculation_type = input(\"What would you like to calculate (sum or average)?\")\n",
    "\n",
    "    if calculation_type == \"sum\":\n",
    "        # Call the 'sum_weights' function to calculate the total weight\n",
    "        total_weight = sum_weights(weight_bop, weight_beep)\n",
    "        # Display the total weight\n",
    "        print(f\"The sum of Beep's and Bop's weight is {total_weight:.2f}\")\n",
    "    elif calculation_type == \"average\":\n",
    "        # Call the 'calc_avg_weight' function to calculate the average weight\n",
    "        average_weight = calc_avg_weight(weight_bop, weight_beep)\n",
    "        # Display the average weight\n",
    "        print(f\"The average weight of Beep and Bop is {average_weight:.2f}\")\n",
    "    else:\n",
    "        print(\"Invalid input. Please enter 'sum' or 'average'.\")\n",
    "\n",
    "# Call the 'run' function to start the program\n",
    "run()\n"
   ]
  },
  {
   "cell_type": "code",
   "execution_count": 10,
   "id": "76b2338e",
   "metadata": {},
   "outputs": [
    {
     "name": "stdout",
     "output_type": "stream",
     "text": [
      "What is the weight of Bop?35\n",
      "What is the weight of Beep?45\n",
      "What would you like to calculate (sum or average)?sum\n",
      "The sum of Beep's and Bop's weight is 80.00\n"
     ]
    }
   ],
   "source": [
    "#  'sum_weights' representing the weight of each bot\n",
    "\n",
    "def sum_weights(weight_bop, weight_beep):\n",
    "    \n",
    "    # Calculate the total weight by adding the weights of Bop and Beep\n",
    "    total_weight = weight_bop + weight_beep\n",
    "    return total_weight\n",
    "\n",
    "# calc_avg_weight' representing the weight of each bot\n",
    "\n",
    "def calc_avg_weight(weight_bop, weight_beep):\n",
    "    # Calculate the average weight by calling the 'sum_weights' function and dividing by 2\n",
    "    average_weight = sum_weights(weight_bop, weight_beep) / 2\n",
    "    # Return the average weight\n",
    "    return average_weight\n",
    "\n",
    "# Define the third function without the bots\n",
    "\n",
    "def run():\n",
    "    \n",
    "    #  the user to enter the weight of Bop and Beep\n",
    "    \n",
    "    weight_bop = float(input(\"What is the weight of Bop?\"))\n",
    "    weight_beep = float(input(\"What is the weight of Beep?\"))\n",
    "\n",
    "    # Ask user for calculation parameter (sum or average)\n",
    "    calculation_type = input(\"What would you like to calculate (sum or average)?\")\n",
    "\n",
    "    if calculation_type == \"sum\":\n",
    "        # Call the 'sum_weights' function to calculate the total weight\n",
    "        total_weight = sum_weights(weight_bop, weight_beep)\n",
    "        # Display the total weight\n",
    "        print(f\"The sum of Beep's and Bop's weight is {total_weight:.2f}\")\n",
    "    elif calculation_type == \"average\":\n",
    "        # Call the 'calc_avg_weight' function to calculate the average weight\n",
    "        average_weight = calc_avg_weight(weight_bop, weight_beep)\n",
    "        # Display the average weight\n",
    "        print(f\"The average weight of Beep and Bop is {average_weight:.2f}\")\n",
    "    else:\n",
    "        print(\"Invalid input. Please enter 'sum' or 'average'.\")\n",
    "\n",
    "# Call the 'run' function to start the program\n",
    "run()\n"
   ]
  },
  {
   "cell_type": "code",
   "execution_count": null,
   "id": "96f4db0d",
   "metadata": {},
   "outputs": [],
   "source": []
  }
 ],
 "metadata": {
  "kernelspec": {
   "display_name": "Python 3",
   "language": "python",
   "name": "python3"
  },
  "language_info": {
   "codemirror_mode": {
    "name": "ipython",
    "version": 3
   },
   "file_extension": ".py",
   "mimetype": "text/x-python",
   "name": "python",
   "nbconvert_exporter": "python",
   "pygments_lexer": "ipython3",
   "version": "3.8.8"
  }
 },
 "nbformat": 4,
 "nbformat_minor": 5
}
