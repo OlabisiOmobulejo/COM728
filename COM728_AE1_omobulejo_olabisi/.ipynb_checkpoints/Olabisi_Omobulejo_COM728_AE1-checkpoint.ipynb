{
 "cells": [
  {
   "cell_type": "markdown",
   "id": "6181cfb3",
   "metadata": {},
   "source": [
    "* IMPORTING AND READING FROM CSV FILE"
   ]
  },
  {
   "cell_type": "code",
   "execution_count": 70,
   "id": "12ae0b70",
   "metadata": {},
   "outputs": [],
   "source": [
    "#IMPORTING THE DEVICES_FEATURES CSV DATA\n",
    "\n",
    "import csv\n",
    "import pandas as pd"
   ]
  },
  {
   "cell_type": "markdown",
   "id": "52561b0c",
   "metadata": {},
   "source": [
    "** READING THE DEVICE FEATURES DATA"
   ]
  },
  {
   "cell_type": "code",
   "execution_count": null,
   "id": "879e8bd3",
   "metadata": {},
   "outputs": [],
   "source": [
    "file_name = \"device_features.csv\"\n",
    "try:\n",
    "    with open(file_name, encoding='UTF-8') as csv_file:\n",
    "        print(f\"{file_name} is now open for read\")\n",
    "        csv_reader = csv.reader(csv_file)\n",
    "        \n",
    "        ## Get the OEM ID from user input\n",
    "        oem_id = input(\"Please enter the oem_id: \")\n",
    "        print(oem_id.lower())\n",
    "        devices = [] #stored devices information  in the csv file\n",
    "        \n",
    "        # checking through the rows in the CSV file\n",
    "        for row in csv_reader:\n",
    "            \n",
    "            \n",
    "            if oem_id.lower() == row[0].lower():\n",
    "                devices.append({\n",
    "                    \"Model_name\": row[2],\n",
    "                    \"Manufacturer\": row[6],\n",
    "                    \"weight\": row[14],\n",
    "                    \"price\": row[15],\n",
    "                    \"price_currency\": row[16]\n",
    "                })\n",
    "\n",
    "except IOError:\n",
    "    print(\"Cannot read file.\")\n",
    "    \n"
   ]
  },
  {
   "cell_type": "code",
   "execution_count": 74,
   "id": "aa8f0755",
   "metadata": {},
   "outputs": [
    {
     "data": {
      "text/plain": [
       "[{'Model_name': 'Moto G53 5G 2022 Premium Edition TD-LTE LATAM 128GB XT2335-1',\n",
       "  'Manufacturer': 'Lenovo',\n",
       "  'weight': '183',\n",
       "  'price': '4999',\n",
       "  'price_currency': 'MXN'},\n",
       " {'Model_name': 'Moto G53 5G 2022 Standard Edition Dual SIM TD-LTE LATAM 128GB XT2335-1',\n",
       "  'Manufacturer': 'Lenovo',\n",
       "  'weight': '183',\n",
       "  'price': '1899',\n",
       "  'price_currency': 'BRL'}]"
      ]
     },
     "execution_count": 74,
     "metadata": {},
     "output_type": "execute_result"
    }
   ],
   "source": [
    "devices"
   ]
  },
  {
   "cell_type": "code",
   "execution_count": 73,
   "id": "d0bed3fa-a217-43a7-bdf8-a786b72d1e97",
   "metadata": {
    "scrolled": true
   },
   "outputs": [
    {
     "name": "stdout",
     "output_type": "stream",
     "text": [
      "========Displaying Menu again========\n",
      "1. Request Model Name\n",
      "2. Request Manufacturer\n",
      "3. Request Weight of Devices\n",
      "4. Request Price\n",
      "5. Request Price Currency\n",
      "6. Exit\n"
     ]
    },
    {
     "ename": "KeyboardInterrupt",
     "evalue": "Interrupted by user",
     "output_type": "error",
     "traceback": [
      "\u001b[0;31m---------------------------------------------------------------------------\u001b[0m",
      "\u001b[0;31mKeyboardInterrupt\u001b[0m                         Traceback (most recent call last)",
      "Cell \u001b[0;32mIn[73], line 55\u001b[0m\n\u001b[1;32m     53\u001b[0m \u001b[38;5;28;01mwhile\u001b[39;00m \u001b[38;5;28;01mTrue\u001b[39;00m:\n\u001b[1;32m     54\u001b[0m     \u001b[38;5;28mprint\u001b[39m(\u001b[38;5;124m\"\u001b[39m\u001b[38;5;124m========Displaying Menu again========\u001b[39m\u001b[38;5;124m\"\u001b[39m)\n\u001b[0;32m---> 55\u001b[0m     user_choice \u001b[38;5;241m=\u001b[39m menu()\n\u001b[1;32m     56\u001b[0m     \u001b[38;5;28;01mif\u001b[39;00m \u001b[38;5;129;01mnot\u001b[39;00m process_choice(user_choice):\n\u001b[1;32m     57\u001b[0m         \u001b[38;5;28;01mbreak\u001b[39;00m\n",
      "Cell \u001b[0;32mIn[73], line 47\u001b[0m, in \u001b[0;36mmenu\u001b[0;34m()\u001b[0m\n\u001b[1;32m     45\u001b[0m \u001b[38;5;28mprint\u001b[39m(\u001b[38;5;124m\"\u001b[39m\u001b[38;5;124m5. Request Price Currency\u001b[39m\u001b[38;5;124m\"\u001b[39m)\n\u001b[1;32m     46\u001b[0m \u001b[38;5;28mprint\u001b[39m(\u001b[38;5;124m\"\u001b[39m\u001b[38;5;124m6. Exit\u001b[39m\u001b[38;5;124m\"\u001b[39m)\n\u001b[0;32m---> 47\u001b[0m choice \u001b[38;5;241m=\u001b[39m \u001b[38;5;28minput\u001b[39m(\u001b[38;5;124m\"\u001b[39m\u001b[38;5;124mEnter a number to get the information you require: \u001b[39m\u001b[38;5;124m\"\u001b[39m)\n\u001b[1;32m     48\u001b[0m \u001b[38;5;28;01mreturn\u001b[39;00m choice\n",
      "File \u001b[0;32m~/anaconda3/lib/python3.11/site-packages/ipykernel/kernelbase.py:1202\u001b[0m, in \u001b[0;36mKernel.raw_input\u001b[0;34m(self, prompt)\u001b[0m\n\u001b[1;32m   1200\u001b[0m     msg \u001b[38;5;241m=\u001b[39m \u001b[38;5;124m\"\u001b[39m\u001b[38;5;124mraw_input was called, but this frontend does not support input requests.\u001b[39m\u001b[38;5;124m\"\u001b[39m\n\u001b[1;32m   1201\u001b[0m     \u001b[38;5;28;01mraise\u001b[39;00m StdinNotImplementedError(msg)\n\u001b[0;32m-> 1202\u001b[0m \u001b[38;5;28;01mreturn\u001b[39;00m \u001b[38;5;28mself\u001b[39m\u001b[38;5;241m.\u001b[39m_input_request(\n\u001b[1;32m   1203\u001b[0m     \u001b[38;5;28mstr\u001b[39m(prompt),\n\u001b[1;32m   1204\u001b[0m     \u001b[38;5;28mself\u001b[39m\u001b[38;5;241m.\u001b[39m_parent_ident[\u001b[38;5;124m\"\u001b[39m\u001b[38;5;124mshell\u001b[39m\u001b[38;5;124m\"\u001b[39m],\n\u001b[1;32m   1205\u001b[0m     \u001b[38;5;28mself\u001b[39m\u001b[38;5;241m.\u001b[39mget_parent(\u001b[38;5;124m\"\u001b[39m\u001b[38;5;124mshell\u001b[39m\u001b[38;5;124m\"\u001b[39m),\n\u001b[1;32m   1206\u001b[0m     password\u001b[38;5;241m=\u001b[39m\u001b[38;5;28;01mFalse\u001b[39;00m,\n\u001b[1;32m   1207\u001b[0m )\n",
      "File \u001b[0;32m~/anaconda3/lib/python3.11/site-packages/ipykernel/kernelbase.py:1245\u001b[0m, in \u001b[0;36mKernel._input_request\u001b[0;34m(self, prompt, ident, parent, password)\u001b[0m\n\u001b[1;32m   1242\u001b[0m \u001b[38;5;28;01mexcept\u001b[39;00m \u001b[38;5;167;01mKeyboardInterrupt\u001b[39;00m:\n\u001b[1;32m   1243\u001b[0m     \u001b[38;5;66;03m# re-raise KeyboardInterrupt, to truncate traceback\u001b[39;00m\n\u001b[1;32m   1244\u001b[0m     msg \u001b[38;5;241m=\u001b[39m \u001b[38;5;124m\"\u001b[39m\u001b[38;5;124mInterrupted by user\u001b[39m\u001b[38;5;124m\"\u001b[39m\n\u001b[0;32m-> 1245\u001b[0m     \u001b[38;5;28;01mraise\u001b[39;00m \u001b[38;5;167;01mKeyboardInterrupt\u001b[39;00m(msg) \u001b[38;5;28;01mfrom\u001b[39;00m \u001b[38;5;28;01mNone\u001b[39;00m\n\u001b[1;32m   1246\u001b[0m \u001b[38;5;28;01mexcept\u001b[39;00m \u001b[38;5;167;01mException\u001b[39;00m:\n\u001b[1;32m   1247\u001b[0m     \u001b[38;5;28mself\u001b[39m\u001b[38;5;241m.\u001b[39mlog\u001b[38;5;241m.\u001b[39mwarning(\u001b[38;5;124m\"\u001b[39m\u001b[38;5;124mInvalid Message:\u001b[39m\u001b[38;5;124m\"\u001b[39m, exc_info\u001b[38;5;241m=\u001b[39m\u001b[38;5;28;01mTrue\u001b[39;00m)\n",
      "\u001b[0;31mKeyboardInterrupt\u001b[0m: Interrupted by user"
     ]
    }
   ],
   "source": [
    "def process_choice(choice):\n",
    "    # Code to handle requesting model name\n",
    "    if choice == '1':\n",
    "        print(\"Devices Name:\")\n",
    "        for device in devices:\n",
    "            print(device['Model_name'])\n",
    "      \n",
    "         \n",
    "    elif choice == '2':\n",
    "        # Code to handle requesting manufacturer\n",
    "        print(\"Manufacturer\")\n",
    "        for device in devices:\n",
    "            print(device['Manufacturer'])\n",
    "        \n",
    "    elif choice == '3':\n",
    "        # Code to handle requesting weight of devices\n",
    "        print(\"Device weight\")\n",
    "        for device in devices:\n",
    "            print(device['weight'])\n",
    "    elif choice == '4':\n",
    "        print(\"Device Price\")\n",
    "        # Code to handle requesting price\n",
    "        for device in devices:\n",
    "            print(device['price'])\n",
    "\n",
    "    elif choice == '5':\n",
    "        print(\"Price Currency\")\n",
    "        # Code to handle requesting price currency\n",
    "        for device in devices:\n",
    "            print(device['price_currency'])\n",
    "\n",
    "    elif choice == '6':\n",
    "        print(\"You have chosen to Exit.\")\n",
    "        return False\n",
    "    else:\n",
    "        print(\"Invalid choice. Please enter a valid option.\")\n",
    "    return True\n",
    "\n",
    "\n",
    "def menu():\n",
    "    print(\"1. Request Model Name\")\n",
    "    print(\"2. Request Manufacturer\")\n",
    "    print(\"3. Request Weight of Devices\")\n",
    "    print(\"4. Request Price\")\n",
    "    print(\"5. Request Price Currency\")\n",
    "    print(\"6. Exit\")\n",
    "    choice = input(\"Enter a number to get the information you require: \")\n",
    "    return choice\n",
    "\n",
    "\n",
    "\n",
    "\n",
    "while True:\n",
    "    print(\"========Displaying Menu again========\")\n",
    "    user_choice = menu()\n",
    "    if not process_choice(user_choice):\n",
    "        break"
   ]
  },
  {
   "cell_type": "markdown",
   "id": "1ca12839",
   "metadata": {},
   "source": [
    "***CREATING USER FRIENDLY FUNCTION"
   ]
  },
  {
   "cell_type": "code",
   "execution_count": null,
   "id": "03330b5f",
   "metadata": {},
   "outputs": [],
   "source": []
  },
  {
   "cell_type": "markdown",
   "id": "5e345309",
   "metadata": {},
   "source": [
    "* IMPORTING THE BRAND,MODEL,RAM CAPACITY,MARKET REGION,DATE ADDED"
   ]
  },
  {
   "cell_type": "code",
   "execution_count": 66,
   "id": "70e08976",
   "metadata": {},
   "outputs": [
    {
     "name": "stdout",
     "output_type": "stream",
     "text": [
      "Please enter the code name: HMD Orion\n"
     ]
    },
    {
     "data": {
      "text/html": [
       "<div>\n",
       "<style scoped>\n",
       "    .dataframe tbody tr th:only-of-type {\n",
       "        vertical-align: middle;\n",
       "    }\n",
       "\n",
       "    .dataframe tbody tr th {\n",
       "        vertical-align: top;\n",
       "    }\n",
       "\n",
       "    .dataframe thead th {\n",
       "        text-align: right;\n",
       "    }\n",
       "</style>\n",
       "<table border=\"1\" class=\"dataframe\">\n",
       "  <thead>\n",
       "    <tr style=\"text-align: right;\">\n",
       "      <th></th>\n",
       "      <th>brand</th>\n",
       "      <th>model</th>\n",
       "      <th>ram_capacity</th>\n",
       "      <th>market_regions</th>\n",
       "    </tr>\n",
       "  </thead>\n",
       "  <tbody>\n",
       "    <tr>\n",
       "      <th>17</th>\n",
       "      <td>Nokia</td>\n",
       "      <td>C300 2023 TD-LTE US 32GB</td>\n",
       "      <td>3</td>\n",
       "      <td>North America</td>\n",
       "    </tr>\n",
       "    <tr>\n",
       "      <th>18</th>\n",
       "      <td>Nokia</td>\n",
       "      <td>C300 2023 TD-LTE US 32GB N155DL</td>\n",
       "      <td>3</td>\n",
       "      <td>North America</td>\n",
       "    </tr>\n",
       "  </tbody>\n",
       "</table>\n",
       "</div>"
      ],
      "text/plain": [
       "    brand                            model  ram_capacity market_regions\n",
       "17  Nokia         C300 2023 TD-LTE US 32GB             3  North America\n",
       "18  Nokia  C300 2023 TD-LTE US 32GB N155DL             3  North America"
      ]
     },
     "execution_count": 66,
     "metadata": {},
     "output_type": "execute_result"
    }
   ],
   "source": [
    "df_devices = pd.read_csv(file_name)\n",
    "code_name = input(\"Please enter the code name: \")\n",
    "selected_devices = df_devices[df_devices['codename'] == code_name]\n",
    "selected_devices = selected_devices[['brand','model','ram_capacity', 'market_regions']]\n",
    "selected_devices\n",
    "\n",
    "# file_name = \"device_features.csv\"  brand, model name, RAM capacity, market regions, "
   ]
  },
  {
   "cell_type": "markdown",
   "id": "07be1907",
   "metadata": {},
   "source": [
    " * READING THE DATA FROM OEM_ID,RELEASED_DATE,ANNOUCED_DATE,DIMENSION,DEVICE_CATEGORY"
   ]
  },
  {
   "cell_type": "code",
   "execution_count": null,
   "id": "dccd60ae-e650-4966-ace5-46abe9c3979c",
   "metadata": {},
   "outputs": [],
   "source": [
    "# Import csv library\n",
    "\n",
    "import csv\n",
    "\n",
    "# define a file name\n",
    "s\n",
    "file_name = \"device_features.csv\"\n",
    "\n",
    "# Open the test.csv file but test.csv does not exist however we handle file error so program is not stop or interrupt \n",
    "try:\n",
    "    with open(file_name,encoding='UTF-8') as csv_file:\n",
    "        print(f\"{file_name} is now open for read\")\n",
    "        \n",
    "        #read from the csv file\n",
    "        csv_reader = csv.reader(csv_file)\n",
    "        \n",
    "        #accept input from the user - oem_id\n",
    "        oem_id = input(\"please enter the oem_id\")\n",
    "        \n",
    "        result =[]\n",
    "        # Display rows where user input matches oem_id\n",
    "\n",
    "\n",
    "        for row in csv_reader:\n",
    "            if(oem_id.lower() == row[0].lower()):\n",
    "                result.append({ \n",
    "                    \"oem_id\": row[0],\n",
    "                    \"Releaded_date\" : row[3],\n",
    "                    \"Annouced_date\" : row [15],\n",
    "                    \"Dimension\" : row [13],\n",
    "                    \"Device_Category\" :row  [9]\n",
    "                               \n",
    "                              \n",
    "                              })       \n",
    "                print(result)\n",
    "        \n",
    "    \n",
    "except IOError:\n",
    "    print(\"Cannot read file.\")\n"
   ]
  },
  {
   "cell_type": "markdown",
   "id": "1befdb55",
   "metadata": {},
   "source": [
    "* READING DATA FROM HARDWARE_DESIGNER,CPU,DISPLAY_TYPE"
   ]
  },
  {
   "cell_type": "code",
   "execution_count": null,
   "id": "ced9cf42-9c52-4f07-aa28-403e49f60d6e",
   "metadata": {},
   "outputs": [],
   "source": [
    "# Import csv library\n",
    "\n",
    "import csv\n",
    "\n",
    "# define a file name\n",
    "\n",
    "file_name = \"device_features.csv\"\n",
    "\n",
    "# Open the test.csv file but test.csv does not exist however we handle file error so program is not stop or interrupt \n",
    "try:\n",
    "    with open(file_name,encoding='UTF-8') as csv_file:\n",
    "        print(f\"{file_name} is now open for read\")\n",
    "        \n",
    "        #read from the csv file\n",
    "        csv_reader = csv.reader(csv_file)\n",
    "        \n",
    "        #accept input from the user - oem_id\n",
    "        Hardware_designer = input(\"please enter the hardware designer\")\n",
    "        \n",
    "        result =[]\n",
    "        # Display rows where user input matches oem_id\n",
    "\n",
    "\n",
    "        for row in csv_reader:\n",
    "            if(Hardware_designer.lower() == row[5].lower()):\n",
    "                result.append({ \n",
    "                    \"Hardware_designer\": row[5],\n",
    "                    \"Cpu\" : row[21],\n",
    "                    \"display_type\" : row [30],\n",
    "                   \n",
    "                               \n",
    "                              \n",
    "                              })       \n",
    "                print(result)\n",
    "        \n",
    "    \n",
    "except IOError:\n",
    "    print(\"Cannot read file.\")\n"
   ]
  },
  {
   "cell_type": "code",
   "execution_count": null,
   "id": "97e23a05-ad37-484c-808a-65a90985b38b",
   "metadata": {},
   "outputs": [],
   "source": []
  },
  {
   "cell_type": "code",
   "execution_count": null,
   "id": "8f2e4af8",
   "metadata": {},
   "outputs": [],
   "source": [
    "import csv\n",
    "\n",
    "file_name = \"device_features.csv\"\n",
    "\n",
    "def menu():\n",
    "    print(\"1. Model Name\")\n",
    "    print(\"2. Manufacturer\")\n",
    "    print(\"3. Weight of the Device\")\n",
    "    print(\"4. Price\")\n",
    "    print(\"5. Currency\")\n",
    "    print(\"6. Exit\")\n",
    "    return input(\"Enter a number to get the information you require: \")\n",
    "\n",
    "def get_device_info(oem_id, choice):\n",
    "    try:\n",
    "        with open(file_name, encoding='UTF-8') as csv_file:\n",
    "            csv_reader = csv.reader(csv_file)\n",
    "            result = []\n",
    "            for row in csv_reader:\n",
    "                if oem_id.lower() == row[0].lower():\n",
    "                    if choice == '1':\n",
    "                        result.append(row[2])  # Model Name\n",
    "                    elif choice == '2':\n",
    "                        result.append(row[6])  # Manufacturer\n",
    "                    elif choice == '3':\n",
    "                        result.append(row[14])  # Weight of the Device\n",
    "                    elif choice == '4':\n",
    "                        result.append(row[15])  # Price\n",
    "                    elif choice == '5':\n",
    "                        result.append(row[16])  # Currency\n",
    "            return result\n",
    "    except IOError:\n",
    "        print(\"Cannot read file.\")\n",
    "\n",
    "while True:\n",
    "    oem_id = input(\"Please enter the OEM ID: \")\n",
    "    choice = menu()\n",
    "\n",
    "    if choice == '6':\n",
    "        print(\"Exiting...\")\n",
    "        break\n",
    "\n",
    "    device_info = get_device_info(oem_id, choice)\n",
    "    \n",
    "    if device_info:\n",
    "        print(device_info)\n",
    "    else:\n",
    "        print(\"Invalid choice or OEM ID. Please try again.\")\n"
   ]
  },
  {
   "cell_type": "code",
   "execution_count": null,
   "id": "0abab2fd",
   "metadata": {},
   "outputs": [],
   "source": [
    "import csv\n",
    "\n",
    "file_name = \"device_features.csv\"\n",
    "\n",
    "def menu():\n",
    "    print(\"1. Model Name\")\n",
    "    print(\"2. Manufacturer\")\n",
    "    print(\"3. Weight of the Device\")\n",
    "    print(\"4. Price\")\n",
    "    print(\"5. Currency\")\n",
    "    print(\"x. Exit\")\n",
    "    return input(\"Enter a number to get the information you require or 'x' to exit: \")\n",
    "\n",
    "def get_device_info(oem_id, choice):\n",
    "    try:\n",
    "        with open(file_name, encoding='UTF-8') as csv_file:\n",
    "            csv_reader = csv.reader(csv_file)\n",
    "            result = []\n",
    "            for row in csv_reader:\n",
    "                if oem_id.lower() == row[0].lower():\n",
    "                    if choice == '1':\n",
    "                        result.append(row[2])  # Model Name\n",
    "                    elif choice == '2':\n",
    "                        result.append(row[6])  # Manufacturer\n",
    "                    elif choice == '3':\n",
    "                        result.append(row[14])  # Weight of the Device\n",
    "                    elif choice == '4':\n",
    "                        result.append(row[15])  # Price\n",
    "                    elif choice == '5':\n",
    "                        result.append(row[16])  # Currency\n",
    "            return result\n",
    "    except IOError:\n",
    "        print(\"Cannot read file.\")\n",
    "\n",
    "while True:\n",
    "    oem_id = input(\"Please enter the OEM ID or 'x' to exit: \")\n",
    "    \n",
    "    if oem_id.lower() == 'x':\n",
    "        print(\"Exiting...\")\n",
    "        break\n",
    "\n",
    "    choice = menu()\n",
    "\n",
    "    if choice.lower() == 'x':\n",
    "        print(\"Exiting...\")\n",
    "        break\n",
    "\n",
    "    device_info = get_device_info(oem_id, choice)\n",
    "    \n",
    "    if device_info:\n",
    "        print(device_info)\n",
    "    else:\n",
    "        print(\"Invalid choice or OEM ID. Please try again.\")\n"
   ]
  }
 ],
 "metadata": {
  "kernelspec": {
   "display_name": "Python 3 (ipykernel)",
   "language": "python",
   "name": "python3"
  },
  "language_info": {
   "codemirror_mode": {
    "name": "ipython",
    "version": 3
   },
   "file_extension": ".py",
   "mimetype": "text/x-python",
   "name": "python",
   "nbconvert_exporter": "python",
   "pygments_lexer": "ipython3",
   "version": "3.11.5"
  }
 },
 "nbformat": 4,
 "nbformat_minor": 5
}
