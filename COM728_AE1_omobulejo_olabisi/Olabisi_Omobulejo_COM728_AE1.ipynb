{
 "cells": [
  {
   "cell_type": "markdown",
   "id": "6181cfb3",
   "metadata": {},
   "source": [
    "* IMPORTING AND READING FROM CSV FILE"
   ]
  },
  {
   "cell_type": "code",
   "execution_count": 2,
   "id": "5fdec5ec",
   "metadata": {},
   "outputs": [
    {
     "name": "stdout",
     "output_type": "stream",
     "text": [
      "device_features.csv is now open for read\n"
     ]
    },
    {
     "name": "stdin",
     "output_type": "stream",
     "text": [
      "Please enter the oem_id:  mc400\n"
     ]
    },
    {
     "ename": "AttributeError",
     "evalue": "'DataFrame' object has no attribute 'append'",
     "output_type": "error",
     "traceback": [
      "\u001b[0;31m---------------------------------------------------------------------------\u001b[0m",
      "\u001b[0;31mAttributeError\u001b[0m                            Traceback (most recent call last)",
      "\u001b[0;32m/var/folders/w1/4h__79_13mng24j5q9dd4k940000gq/T/ipykernel_32669/2636738324.py\u001b[0m in \u001b[0;36m?\u001b[0;34m()\u001b[0m\n\u001b[1;32m     33\u001b[0m \u001b[0;34m\u001b[0m\u001b[0m\n\u001b[1;32m     34\u001b[0m         \u001b[0;31m# Display the resulting DataFrame\u001b[0m\u001b[0;34m\u001b[0m\u001b[0;34m\u001b[0m\u001b[0m\n\u001b[1;32m     35\u001b[0m         \u001b[0mprint\u001b[0m\u001b[0;34m(\u001b[0m\u001b[0mresult_df\u001b[0m\u001b[0;34m)\u001b[0m\u001b[0;34m\u001b[0m\u001b[0;34m\u001b[0m\u001b[0m\n\u001b[1;32m     36\u001b[0m \u001b[0;34m\u001b[0m\u001b[0m\n\u001b[0;32m---> 37\u001b[0;31m \u001b[0;32mexcept\u001b[0m \u001b[0mIOError\u001b[0m\u001b[0;34m:\u001b[0m\u001b[0;34m\u001b[0m\u001b[0;34m\u001b[0m\u001b[0m\n\u001b[0m\u001b[1;32m     38\u001b[0m     \u001b[0mprint\u001b[0m\u001b[0;34m(\u001b[0m\u001b[0;34m\"Cannot read file.\"\u001b[0m\u001b[0;34m)\u001b[0m\u001b[0;34m\u001b[0m\u001b[0;34m\u001b[0m\u001b[0m\n",
      "\u001b[0;32m~/anaconda3/envs/COM728/lib/python3.11/site-packages/pandas/core/generic.py\u001b[0m in \u001b[0;36m?\u001b[0;34m(self, name)\u001b[0m\n\u001b[1;32m   6200\u001b[0m             \u001b[0;32mand\u001b[0m \u001b[0mname\u001b[0m \u001b[0;32mnot\u001b[0m \u001b[0;32min\u001b[0m \u001b[0mself\u001b[0m\u001b[0;34m.\u001b[0m\u001b[0m_accessors\u001b[0m\u001b[0;34m\u001b[0m\u001b[0;34m\u001b[0m\u001b[0m\n\u001b[1;32m   6201\u001b[0m             \u001b[0;32mand\u001b[0m \u001b[0mself\u001b[0m\u001b[0;34m.\u001b[0m\u001b[0m_info_axis\u001b[0m\u001b[0;34m.\u001b[0m\u001b[0m_can_hold_identifiers_and_holds_name\u001b[0m\u001b[0;34m(\u001b[0m\u001b[0mname\u001b[0m\u001b[0;34m)\u001b[0m\u001b[0;34m\u001b[0m\u001b[0;34m\u001b[0m\u001b[0m\n\u001b[1;32m   6202\u001b[0m         ):\n\u001b[1;32m   6203\u001b[0m             \u001b[0;32mreturn\u001b[0m \u001b[0mself\u001b[0m\u001b[0;34m[\u001b[0m\u001b[0mname\u001b[0m\u001b[0;34m]\u001b[0m\u001b[0;34m\u001b[0m\u001b[0;34m\u001b[0m\u001b[0m\n\u001b[0;32m-> 6204\u001b[0;31m         \u001b[0;32mreturn\u001b[0m \u001b[0mobject\u001b[0m\u001b[0;34m.\u001b[0m\u001b[0m__getattribute__\u001b[0m\u001b[0;34m(\u001b[0m\u001b[0mself\u001b[0m\u001b[0;34m,\u001b[0m \u001b[0mname\u001b[0m\u001b[0;34m)\u001b[0m\u001b[0;34m\u001b[0m\u001b[0;34m\u001b[0m\u001b[0m\n\u001b[0m",
      "\u001b[0;31mAttributeError\u001b[0m: 'DataFrame' object has no attribute 'append'"
     ]
    }
   ],
   "source": [
    "import csv\n",
    "import pandas as pd\n",
    "\n",
    "file_name = \"device_features.csv\"\n",
    "\n",
    "try:\n",
    "    with open(file_name, encoding='UTF-8') as csv_file:\n",
    "        print(f\"{file_name} is now open for read\")\n",
    "        \n",
    "        csv_reader = csv.reader(csv_file)\n",
    "        \n",
    "        oem_id = input(\"Please enter the oem_id: \")\n",
    "        \n",
    "        # Create an empty list to store filtered rows\n",
    "        result = []\n",
    "        \n",
    "        # Filtered rows will be stored in a Pandas DataFrame\n",
    "        columns = [\"oem_id\", \"Released_date\", \"Announced_date\", \"Dimension\", \"Device_Category\"]\n",
    "        result_df = pd.DataFrame(columns=columns)\n",
    "        \n",
    "        for row in csv_reader:\n",
    "            if oem_id.lower() == row[0].lower():\n",
    "                result.append({\n",
    "                    \"oem_id\": row[0],\n",
    "                    \"Released_date\": row[3],\n",
    "                    \"Announced_date\": row[15],\n",
    "                    \"Dimension\": row[13],\n",
    "                    \"Device_Category\": row[9]\n",
    "                })\n",
    "        \n",
    "        # Append the filtered rows to the DataFrame\n",
    "        result_df = result_df.append(result, ignore_index=True)\n",
    "        \n",
    "        # Display the resulting DataFrame\n",
    "        print(result_df)\n",
    "    \n",
    "except IOError:\n",
    "    print(\"Cannot read file.\")\n"
   ]
  },
  {
   "cell_type": "markdown",
   "id": "52561b0c",
   "metadata": {},
   "source": [
    "** READING THE DEVICE FEATURES DATA"
   ]
  },
  {
   "cell_type": "code",
   "execution_count": null,
   "id": "cbb63345",
   "metadata": {},
   "outputs": [],
   "source": [
    "/Users/omobulejoolabisi/Documents/GitHub/COM728/COM728_AE1_omobulejo_olabisi/file_name.csv"
   ]
  },
  {
   "cell_type": "code",
   "execution_count": null,
   "id": "d0bed3fa-a217-43a7-bdf8-a786b72d1e97",
   "metadata": {
    "scrolled": true
   },
   "outputs": [],
   "source": [
    "def process_choice(choice):\n",
    "    # Code to handle requesting model name\n",
    "    if choice == '1':\n",
    "        print(\"Devices Name:\")\n",
    "        for device in devices:\n",
    "            print(device['Model_name'])\n",
    "      \n",
    "         \n",
    "    elif choice == '2':\n",
    "        # Code to handle requesting manufacturer\n",
    "        print(\"Manufacturer\")\n",
    "        for device in devices:\n",
    "            print(device['Manufacturer'])\n",
    "        \n",
    "    elif choice == '3':\n",
    "        # Code to handle requesting weight of devices\n",
    "        print(\"Device weight\")\n",
    "        for device in devices:\n",
    "            print(device['weight'])\n",
    "    elif choice == '4':\n",
    "        print(\"Device Price\")\n",
    "        # Code to handle requesting price\n",
    "        for device in devices:\n",
    "            print(device['price'])\n",
    "\n",
    "    elif choice == '5':\n",
    "        print(\"Price Currency\")\n",
    "        # Code to handle requesting price currency\n",
    "        for device in devices:\n",
    "            print(device['price_currency'])\n",
    "\n",
    "    elif choice == '6':\n",
    "        print(\"You have chosen to Exit.\")\n",
    "        return False\n",
    "    else:\n",
    "        print(\"Invalid choice. Please enter a valid option.\")\n",
    "    return True\n",
    "\n",
    "\n",
    "def menu():\n",
    "    print(\"1. Request Model Name\")\n",
    "    print(\"2. Request Manufacturer\")\n",
    "    print(\"3. Request Weight of Devices\")\n",
    "    print(\"4. Request Price\")\n",
    "    print(\"5. Request Price Currency\")\n",
    "    print(\"6. Exit\")\n",
    "    choice = input(\"Enter a number to get the information you require: \")\n",
    "    return choice\n",
    "\n",
    "\n",
    "\n",
    "\n",
    "while True:\n",
    "    print(\"========Displaying Menu again========\")\n",
    "    user_choice = menu()\n",
    "    if not process_choice(user_choice):\n",
    "        break"
   ]
  },
  {
   "cell_type": "markdown",
   "id": "1ca12839",
   "metadata": {},
   "source": [
    "***CREATING USER FRIENDLY FUNCTION"
   ]
  },
  {
   "cell_type": "code",
   "execution_count": null,
   "id": "03330b5f",
   "metadata": {},
   "outputs": [],
   "source": []
  },
  {
   "cell_type": "markdown",
   "id": "5e345309",
   "metadata": {},
   "source": [
    "* IMPORTING THE BRAND,MODEL,RAM CAPACITY,MARKET REGION,DATE ADDED"
   ]
  },
  {
   "cell_type": "code",
   "execution_count": null,
   "id": "70e08976",
   "metadata": {},
   "outputs": [],
   "source": [
    "df_devices = pd.read_csv(file_name)\n",
    "code_name = input(\"Please enter the code name: \")\n",
    "selected_devices = df_devices[df_devices['codename'] == code_name]\n",
    "selected_devices = selected_devices[['brand','model','ram_capacity', 'market_regions']]\n",
    "selected_devices\n",
    "\n",
    "# file_name = \"device_features.csv\"  brand, model name, RAM capacity, market regions, "
   ]
  },
  {
   "cell_type": "markdown",
   "id": "07be1907",
   "metadata": {},
   "source": [
    "#### * READING THE DATA FROM OEM_ID,RELEASED_DATE,ANNOUCED_DATE,DIMENSION,DEVICE_CATEGORY"
   ]
  },
  {
   "cell_type": "code",
   "execution_count": 9,
   "id": "dccd60ae-e650-4966-ace5-46abe9c3979c",
   "metadata": {},
   "outputs": [
    {
     "name": "stdout",
     "output_type": "stream",
     "text": [
      "device_features.csv is now open for read\n",
      "please enter the oem_idmc400\n",
      "[{'oem_id': 'MC400', 'Releaded_date': '01-01-23', 'Annouced_date': '4999', 'Dimension': '2.94x6.41x0.32 inches', 'Device_Category': 'Smartphone'}]\n",
      "[{'oem_id': 'MC400', 'Releaded_date': '01-01-23', 'Annouced_date': '4999', 'Dimension': '2.94x6.41x0.32 inches', 'Device_Category': 'Smartphone'}, {'oem_id': 'MC400', 'Releaded_date': '01-01-23', 'Annouced_date': '1899', 'Dimension': '2.94x6.41x0.32 inches', 'Device_Category': 'Smartphone'}]\n"
     ]
    }
   ],
   "source": [
    "# Import csv library\n",
    "\n",
    "import csv\n",
    "\n",
    "# define a file name\n",
    "\n",
    "file_name = \"device_features.csv\"\n",
    "\n",
    "# Open the test.csv file but test.csv does not exist however we handle file error so program is not stop or interrupt \n",
    "try:\n",
    "    with open(file_name,encoding='UTF-8') as csv_file:\n",
    "        print(f\"{file_name} is now open for read\")\n",
    "        \n",
    "        #read from the csv file\n",
    "        csv_reader = csv.reader(csv_file)\n",
    "        \n",
    "        #accept input from the user - oem_id\n",
    "        oem_id = input(\"please enter the oem_id\")\n",
    "        \n",
    "        result =[]\n",
    "        # Display rows where user input matches oem_id\n",
    "\n",
    "\n",
    "        for row in csv_reader:\n",
    "            if(oem_id.lower() == row[0].lower()):\n",
    "                result.append({ \n",
    "                    \"oem_id\": row[0],\n",
    "                    \"Releaded_date\" : row[3],\n",
    "                    \"Annouced_date\" : row [15],\n",
    "                    \"Dimension\" : row [13],\n",
    "                    \"Device_Category\" :row  [9]\n",
    "                               \n",
    "                              \n",
    "                              })       \n",
    "                print(result)\n",
    "        \n",
    "    \n",
    "except IOError:\n",
    "    print(\"Cannot read file.\")\n"
   ]
  },
  {
   "cell_type": "markdown",
   "id": "1befdb55",
   "metadata": {},
   "source": [
    "* READING DATA FROM HARDWARE_DESIGNER,CPU,DISPLAY_TYPE"
   ]
  },
  {
   "cell_type": "code",
   "execution_count": null,
   "id": "ced9cf42-9c52-4f07-aa28-403e49f60d6e",
   "metadata": {},
   "outputs": [],
   "source": [
    "# Import csv library\n",
    "\n",
    "import csv\n",
    "\n",
    "# define a file name\n",
    "\n",
    "file_name = \"device_features.csv\"\n",
    "\n",
    "# Open the test.csv file but test.csv does not exist however we handle file error so program is not stop or interrupt \n",
    "try:\n",
    "    with open(file_name,encoding='UTF-8') as csv_file:\n",
    "        print(f\"{file_name} is now open for read\")\n",
    "        \n",
    "        #read from the csv file\n",
    "        csv_reader = csv.reader(csv_file)\n",
    "        \n",
    "        #accept input from the user - oem_id\n",
    "        Hardware_designer = input(\"please enter the hardware designer\")\n",
    "        \n",
    "        result =[]\n",
    "        # Display rows where user input matches oem_id\n",
    "\n",
    "\n",
    "        for row in csv_reader:\n",
    "            if(Hardware_designer.lower() == row[5].lower()):\n",
    "                result.append({ \n",
    "                    \"Hardware_designer\": row[5],\n",
    "                    \"Cpu\" : row[21],\n",
    "                    \"display_type\" : row [30],\n",
    "                   \n",
    "                               \n",
    "                              \n",
    "                              })       \n",
    "                print(result)\n",
    "        \n",
    "    \n",
    "except IOError:\n",
    "    print(\"Cannot read file.\")\n"
   ]
  },
  {
   "cell_type": "code",
   "execution_count": null,
   "id": "97e23a05-ad37-484c-808a-65a90985b38b",
   "metadata": {},
   "outputs": [],
   "source": []
  },
  {
   "cell_type": "code",
   "execution_count": null,
   "id": "8f2e4af8",
   "metadata": {},
   "outputs": [],
   "source": [
    "import csv\n",
    "\n",
    "file_name = \"device_features.csv\"\n",
    "\n",
    "def menu():\n",
    "    print(\"1. Model Name\")\n",
    "    print(\"2. Manufacturer\")\n",
    "    print(\"3. Weight of the Device\")\n",
    "    print(\"4. Price\")\n",
    "    print(\"5. Currency\")\n",
    "    print(\"6. Exit\")\n",
    "    return input(\"Enter a number to get the information you require: \")\n",
    "\n",
    "def get_device_info(oem_id, choice):\n",
    "    try:\n",
    "        with open(file_name, encoding='UTF-8') as csv_file:\n",
    "            csv_reader = csv.reader(csv_file)\n",
    "            result = []\n",
    "            for row in csv_reader:\n",
    "                if oem_id.lower() == row[0].lower():\n",
    "                    if choice == '1':\n",
    "                        result.append(row[2])  # Model Name\n",
    "                    elif choice == '2':\n",
    "                        result.append(row[6])  # Manufacturer\n",
    "                    elif choice == '3':\n",
    "                        result.append(row[14])  # Weight of the Device\n",
    "                    elif choice == '4':\n",
    "                        result.append(row[15])  # Price\n",
    "                    elif choice == '5':\n",
    "                        result.append(row[16])  # Currency\n",
    "            return result\n",
    "    except IOError:\n",
    "        print(\"Cannot read file.\")\n",
    "\n",
    "while True:\n",
    "    oem_id = input(\"Please enter the OEM ID: \")\n",
    "    choice = menu()\n",
    "\n",
    "    if choice == '6':\n",
    "        print(\"Exiting...\")\n",
    "        break\n",
    "\n",
    "    device_info = get_device_info(oem_id, choice)\n",
    "    \n",
    "    if device_info:\n",
    "        print(device_info)\n",
    "    else:\n",
    "        print(\"Invalid choice or OEM ID. Please try again.\")\n"
   ]
  },
  {
   "cell_type": "code",
   "execution_count": null,
   "id": "921a7a86",
   "metadata": {},
   "outputs": [],
   "source": []
  },
  {
   "cell_type": "code",
   "execution_count": 18,
   "id": "0abab2fd",
   "metadata": {},
   "outputs": [
    {
     "ename": "KeyboardInterrupt",
     "evalue": "Interrupted by user",
     "output_type": "error",
     "traceback": [
      "\u001b[0;31m---------------------------------------------------------------------------\u001b[0m",
      "\u001b[0;31mKeyboardInterrupt\u001b[0m                         Traceback (most recent call last)",
      "Cell \u001b[0;32mIn[18], line 36\u001b[0m\n\u001b[1;32m     33\u001b[0m         \u001b[38;5;28mprint\u001b[39m(\u001b[38;5;124m\"\u001b[39m\u001b[38;5;124mCannot read file.\u001b[39m\u001b[38;5;124m\"\u001b[39m)\n\u001b[1;32m     35\u001b[0m \u001b[38;5;28;01mwhile\u001b[39;00m \u001b[38;5;28;01mTrue\u001b[39;00m:\n\u001b[0;32m---> 36\u001b[0m     oem_id \u001b[38;5;241m=\u001b[39m \u001b[38;5;28minput\u001b[39m(\u001b[38;5;124m\"\u001b[39m\u001b[38;5;124mPlease enter the OEM ID or \u001b[39m\u001b[38;5;124m'\u001b[39m\u001b[38;5;124mx\u001b[39m\u001b[38;5;124m'\u001b[39m\u001b[38;5;124m to exit: \u001b[39m\u001b[38;5;124m\"\u001b[39m)\n\u001b[1;32m     38\u001b[0m     \u001b[38;5;28;01mif\u001b[39;00m oem_id\u001b[38;5;241m.\u001b[39mlower() \u001b[38;5;241m==\u001b[39m \u001b[38;5;124m'\u001b[39m\u001b[38;5;124mx\u001b[39m\u001b[38;5;124m'\u001b[39m:\n\u001b[1;32m     39\u001b[0m         \u001b[38;5;28mprint\u001b[39m(\u001b[38;5;124m\"\u001b[39m\u001b[38;5;124mExiting...\u001b[39m\u001b[38;5;124m\"\u001b[39m)\n",
      "File \u001b[0;32m~/anaconda3/lib/python3.11/site-packages/ipykernel/kernelbase.py:1202\u001b[0m, in \u001b[0;36mKernel.raw_input\u001b[0;34m(self, prompt)\u001b[0m\n\u001b[1;32m   1200\u001b[0m     msg \u001b[38;5;241m=\u001b[39m \u001b[38;5;124m\"\u001b[39m\u001b[38;5;124mraw_input was called, but this frontend does not support input requests.\u001b[39m\u001b[38;5;124m\"\u001b[39m\n\u001b[1;32m   1201\u001b[0m     \u001b[38;5;28;01mraise\u001b[39;00m StdinNotImplementedError(msg)\n\u001b[0;32m-> 1202\u001b[0m \u001b[38;5;28;01mreturn\u001b[39;00m \u001b[38;5;28mself\u001b[39m\u001b[38;5;241m.\u001b[39m_input_request(\n\u001b[1;32m   1203\u001b[0m     \u001b[38;5;28mstr\u001b[39m(prompt),\n\u001b[1;32m   1204\u001b[0m     \u001b[38;5;28mself\u001b[39m\u001b[38;5;241m.\u001b[39m_parent_ident[\u001b[38;5;124m\"\u001b[39m\u001b[38;5;124mshell\u001b[39m\u001b[38;5;124m\"\u001b[39m],\n\u001b[1;32m   1205\u001b[0m     \u001b[38;5;28mself\u001b[39m\u001b[38;5;241m.\u001b[39mget_parent(\u001b[38;5;124m\"\u001b[39m\u001b[38;5;124mshell\u001b[39m\u001b[38;5;124m\"\u001b[39m),\n\u001b[1;32m   1206\u001b[0m     password\u001b[38;5;241m=\u001b[39m\u001b[38;5;28;01mFalse\u001b[39;00m,\n\u001b[1;32m   1207\u001b[0m )\n",
      "File \u001b[0;32m~/anaconda3/lib/python3.11/site-packages/ipykernel/kernelbase.py:1245\u001b[0m, in \u001b[0;36mKernel._input_request\u001b[0;34m(self, prompt, ident, parent, password)\u001b[0m\n\u001b[1;32m   1242\u001b[0m \u001b[38;5;28;01mexcept\u001b[39;00m \u001b[38;5;167;01mKeyboardInterrupt\u001b[39;00m:\n\u001b[1;32m   1243\u001b[0m     \u001b[38;5;66;03m# re-raise KeyboardInterrupt, to truncate traceback\u001b[39;00m\n\u001b[1;32m   1244\u001b[0m     msg \u001b[38;5;241m=\u001b[39m \u001b[38;5;124m\"\u001b[39m\u001b[38;5;124mInterrupted by user\u001b[39m\u001b[38;5;124m\"\u001b[39m\n\u001b[0;32m-> 1245\u001b[0m     \u001b[38;5;28;01mraise\u001b[39;00m \u001b[38;5;167;01mKeyboardInterrupt\u001b[39;00m(msg) \u001b[38;5;28;01mfrom\u001b[39;00m \u001b[38;5;28;01mNone\u001b[39;00m\n\u001b[1;32m   1246\u001b[0m \u001b[38;5;28;01mexcept\u001b[39;00m \u001b[38;5;167;01mException\u001b[39;00m:\n\u001b[1;32m   1247\u001b[0m     \u001b[38;5;28mself\u001b[39m\u001b[38;5;241m.\u001b[39mlog\u001b[38;5;241m.\u001b[39mwarning(\u001b[38;5;124m\"\u001b[39m\u001b[38;5;124mInvalid Message:\u001b[39m\u001b[38;5;124m\"\u001b[39m, exc_info\u001b[38;5;241m=\u001b[39m\u001b[38;5;28;01mTrue\u001b[39;00m)\n",
      "\u001b[0;31mKeyboardInterrupt\u001b[0m: Interrupted by user"
     ]
    }
   ],
   "source": [
    "import csv\n",
    "\n",
    "file_name = \"device_features.csv\"\n",
    "\n",
    "def menu():\n",
    "    print(\"1. Model Name\")\n",
    "    print(\"2. Manufacturer\")\n",
    "    print(\"3. Weight of the Device\")\n",
    "    print(\"4. Price\")\n",
    "    print(\"5. Currency\")\n",
    "    print(\"x. Exit\")\n",
    "    return input(\"Enter a number to get the information you require or 'x' to exit: \")\n",
    "\n",
    "def get_device_info(oem_id, choice):\n",
    "    try:\n",
    "        with open(file_name, encoding='UTF-8') as csv_file:\n",
    "            csv_reader = csv.reader(csv_file)\n",
    "            result = []\n",
    "            for row in csv_reader:\n",
    "                if oem_id.lower() == row[0].lower():\n",
    "                    if choice == '1':\n",
    "                        result.append(row[2])  # Model Name\n",
    "                    elif choice == '2':\n",
    "                        result.append(row[6])  # Manufacturer\n",
    "                    elif choice == '3':\n",
    "                        result.append(row[14])  # Weight of the Device\n",
    "                    elif choice == '4':\n",
    "                        result.append(row[15])  # Price\n",
    "                    elif choice == '5':\n",
    "                        result.append(row[16])  # Currency\n",
    "            return result\n",
    "    except IOError:\n",
    "        print(\"Cannot read file.\")\n",
    "\n",
    "while True:\n",
    "    oem_id = input(\"Please enter the OEM ID or 'x' to exit: \")\n",
    "    \n",
    "    if oem_id.lower() == 'x':\n",
    "        print(\"Exiting...\")\n",
    "        break\n",
    "\n",
    "    choice = menu()\n",
    "\n",
    "    if choice.lower() == 'x':\n",
    "        print(\"Exiting...\")\n",
    "        break\n",
    "\n",
    "    device_info = get_device_info(oem_id, choice)\n",
    "    \n",
    "    if device_info:\n",
    "        print(device_info)\n",
    "    else:\n",
    "        print(\"Invalid choice or OEM ID. Please try again.\")\n"
   ]
  },
  {
   "cell_type": "code",
   "execution_count": null,
   "id": "878f0397",
   "metadata": {},
   "outputs": [],
   "source": []
  }
 ],
 "metadata": {
  "kernelspec": {
   "display_name": "Python 3 (ipykernel)",
   "language": "python",
   "name": "python3"
  },
  "language_info": {
   "codemirror_mode": {
    "name": "ipython",
    "version": 3
   },
   "file_extension": ".py",
   "mimetype": "text/x-python",
   "name": "python",
   "nbconvert_exporter": "python",
   "pygments_lexer": "ipython3",
   "version": "3.11.5"
  }
 },
 "nbformat": 4,
 "nbformat_minor": 5
}
