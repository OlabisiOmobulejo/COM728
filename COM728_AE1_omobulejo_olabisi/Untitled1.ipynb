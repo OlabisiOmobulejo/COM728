{
 "cells": [
  {
   "cell_type": "markdown",
   "id": "cd45823f",
   "metadata": {},
   "source": [
    "## IMPORTING AND READING FROM THE CSV FILE USING THE OEM ID"
   ]
  },
  {
   "cell_type": "code",
   "execution_count": 34,
   "id": "748b4e30",
   "metadata": {},
   "outputs": [
    {
     "name": "stdout",
     "output_type": "stream",
     "text": [
      "device_features.csv is now open for read\n"
     ]
    },
    {
     "name": "stdin",
     "output_type": "stream",
     "text": [
      "please enter the oem_id mc400\n"
     ]
    },
    {
     "name": "stdout",
     "output_type": "stream",
     "text": [
      "[{'Brand': 'Motorola', 'Model': 'Moto G53 5G 2022 Premium Edition TD-LTE LATAM 128GB XT2335-1', 'Manufacture': 'Lenovo', 'price': '4999', 'Price_currency': 'MXN'}]\n",
      "[{'Brand': 'Motorola', 'Model': 'Moto G53 5G 2022 Premium Edition TD-LTE LATAM 128GB XT2335-1', 'Manufacture': 'Lenovo', 'price': '4999', 'Price_currency': 'MXN'}, {'Brand': 'Motorola', 'Model': 'Moto G53 5G 2022 Standard Edition Dual SIM TD-LTE LATAM 128GB XT2335-1', 'Manufacture': 'Lenovo', 'price': '1899', 'Price_currency': 'BRL'}]\n"
     ]
    }
   ],
   "source": [
    "# Import csv library\n",
    "\n",
    "import csv\n",
    "\n",
    "# define a file name\n",
    "\n",
    "file_name = \"device_features.csv\"\n",
    "\n",
    "# Open the test.csv file but test.csv does not exist however \n",
    "try:\n",
    "    with open(file_name,encoding='UTF-8') as csv_file:\n",
    "        print(f\"{file_name} is now open for read\")\n",
    "        \n",
    "        #read from the csv file\n",
    "        csv_reader = csv.reader(csv_file)\n",
    "        \n",
    "        #accept input from the user - oem_id\n",
    "        oem_id = input(\"please enter the oem_id\")\n",
    "        \n",
    "        result =[]\n",
    "        # Display rows where user input matches oem_id\n",
    "\n",
    "\n",
    "        for row in csv_reader:\n",
    "            if(oem_id.lower() == row[0].lower()):\n",
    "                result.append({ \n",
    "                    \"Brand\": row[1],\n",
    "                    \"Model\" : row[2],\n",
    "                    \"Manufacture\" : row [6],\n",
    "                    \"price\" : row [15],\n",
    "                    \"Price_currency\" :row  [16]\n",
    "                               \n",
    "                              \n",
    "                              })       \n",
    "                print(result)\n",
    "        \n",
    "    \n",
    "except IOError:\n",
    "    print(\"Cannot read file.\")\n"
   ]
  },
  {
   "cell_type": "code",
   "execution_count": 37,
   "id": "6e78943c-31ab-44da-83d3-8e9182460d94",
   "metadata": {},
   "outputs": [
    {
     "name": "stdout",
     "output_type": "stream",
     "text": [
      "device_features.csv is now open for read\n"
     ]
    },
    {
     "name": "stdin",
     "output_type": "stream",
     "text": [
      "Please enter the code name:  HMD Orion\n"
     ]
    },
    {
     "name": "stdout",
     "output_type": "stream",
     "text": [
      "No matching rows found.\n"
     ]
    }
   ],
   "source": [
    "import csv\n",
    "\n",
    "file_name = \"device_features.csv\"\n",
    "\n",
    "try:\n",
    "    with open(file_name, encoding='UTF-8') as csv_file:\n",
    "        print(f\"{file_name} is now open for read\")\n",
    "        \n",
    "        csv_reader = csv.reader(csv_file)\n",
    "        \n",
    "        codename = input(\"Please enter the code name: \")\n",
    "        \n",
    "        result = []\n",
    "        \n",
    "        for row in csv_reader:\n",
    "            if codename.lower() == row[0].lower():\n",
    "                result.append({ \n",
    "                    \"Brand\": row[1],\n",
    "                    \"Model\": row[2],\n",
    "                    \"Ram_capacity\": row[23],\n",
    "                    \"market_regions\": row[44],\n",
    "                    \"info_added_date\": row[45]\n",
    "                })\n",
    "        \n",
    "        if result:\n",
    "            print(\"Matching rows found:\")\n",
    "            for item in result:\n",
    "                print(item)\n",
    "        else:\n",
    "            print(\"No matching rows found.\")\n",
    "    \n",
    "except IOError:\n",
    "    print(\"Cannot read file.\")\n"
   ]
  },
  {
   "cell_type": "code",
   "execution_count": 36,
   "id": "9a51c07c",
   "metadata": {},
   "outputs": [
    {
     "name": "stdout",
     "output_type": "stream",
     "text": [
      "device_features.csv is now open for read\n"
     ]
    },
    {
     "name": "stdin",
     "output_type": "stream",
     "text": [
      "please enter the code name HMD Orion\n"
     ]
    },
    {
     "name": "stdout",
     "output_type": "stream",
     "text": [
      "[]\n"
     ]
    }
   ],
   "source": [
    "import csv\n",
    "\n",
    "file_name = \"device_features.csv\"\n",
    "\n",
    "try:\n",
    "    with open(file_name, encoding='UTF-8') as csv_file:\n",
    "        print(f\"{file_name} is now open for read\")\n",
    "        \n",
    "        csv_reader = csv.reader(csv_file)\n",
    "        \n",
    "        Codename = input(\"please enter the code name\")\n",
    "        \n",
    "        result = []\n",
    "        \n",
    "        for row in csv_reader:\n",
    "            if Codename.lower() == row[0].lower():\n",
    "                result.append({ \n",
    "                    \"Brand\": row[1],\n",
    "                    \"Model\": row[2],\n",
    "                    \"Ram_capacity\": row[23],\n",
    "                    \"market_regions\": row[44],\n",
    "                    \"info_added_date\": row[45]\n",
    "                })       \n",
    "        print(result)\n",
    "    \n",
    "except IOError:\n",
    "    print(\"Cannot read file.\")\n",
    "\n"
   ]
  },
  {
   "cell_type": "code",
   "execution_count": 38,
   "id": "1b7ccbd4-9e26-4ec9-b02f-e41d7bd418ea",
   "metadata": {},
   "outputs": [
    {
     "name": "stdin",
     "output_type": "stream",
     "text": [
      "Please enter the code name:  HMD ORION\n"
     ]
    },
    {
     "name": "stdout",
     "output_type": "stream",
     "text": [
      "device_features.csv is now open for read\n",
      "No devices found with code name 'HMD ORION'\n"
     ]
    }
   ],
   "source": [
    "import csv\n",
    "\n",
    "file_name = \"device_features.csv\"\n",
    "\n",
    "def retrieve_device_info_by_code_name(code_name):\n",
    "    try:\n",
    "        with open(file_name, encoding='UTF-8') as csv_file:\n",
    "            print(f\"{file_name} is now open for read\")\n",
    "            \n",
    "            csv_reader = csv.reader(csv_file)\n",
    "            \n",
    "            matching_devices = []\n",
    "            \n",
    "            for row in csv_reader:\n",
    "                if len(row) > 0 and row[0].lower() == code_name.lower():\n",
    "                    device_info = {\n",
    "                        \"Brand\": row[1],                # Retrieve brand\n",
    "                        \"Model Name\": row[2],           # Retrieve model name\n",
    "                        \"RAM Capacity\": row[23],        # Retrieve RAM capacity\n",
    "                        \"Market Regions\": row[44],      # Retrieve market regions\n",
    "                        \"Info Added Date\": row[45]      # Retrieve info added date\n",
    "                    }\n",
    "                    matching_devices.append(device_info)\n",
    "            \n",
    "            if matching_devices:\n",
    "                print(f\"Devices associated with code name '{code_name}':\")\n",
    "                for device in matching_devices:\n",
    "                    print(device)\n",
    "            else:\n",
    "                print(f\"No devices found with code name '{code_name}'\")\n",
    "        \n",
    "    except IOError:\n",
    "        print(\"Cannot read file.\")\n",
    "\n",
    "# Prompt user for code name input\n",
    "code_name_input = input(\"Please enter the code name: \")\n",
    "\n",
    "# Call the function to retrieve device information based on code name\n",
    "retrieve_device_info_by_code_name(code_name_input)\n"
   ]
  },
  {
   "cell_type": "code",
   "execution_count": 39,
   "id": "0f146b05-e2bd-4b94-b7bf-082103240822",
   "metadata": {},
   "outputs": [
    {
     "name": "stdin",
     "output_type": "stream",
     "text": [
      "Please enter the RAM capacity:  3\n"
     ]
    },
    {
     "name": "stdout",
     "output_type": "stream",
     "text": [
      "device_features.csv is now open for read\n",
      "Devices with RAM capacity 3\n",
      "{'oem_id': '76.4', 'release_date': '1080', 'announcement_date': '2408', 'dimensions': '1-hole', 'device_category': 'Samsung Electronics'}\n",
      "{'oem_id': '76.4', 'release_date': '1080', 'announcement_date': '2408', 'dimensions': '1-hole', 'device_category': 'Samsung Electronics'}\n",
      "{'oem_id': '76.4', 'release_date': '1080', 'announcement_date': '2408', 'dimensions': '1-hole', 'device_category': 'Samsung Electronics'}\n",
      "{'oem_id': '76.4', 'release_date': '1080', 'announcement_date': '2408', 'dimensions': '1-hole', 'device_category': 'Samsung Electronics'}\n",
      "{'oem_id': '73.9', 'release_date': '720', 'announcement_date': '1560', 'dimensions': '1-hole', 'device_category': 'HMD Global'}\n",
      "{'oem_id': '73.9', 'release_date': '720', 'announcement_date': '1560', 'dimensions': '1-hole', 'device_category': 'HMD Global'}\n",
      "{'oem_id': '76.62', 'release_date': '720', 'announcement_date': '1600', 'dimensions': '1-hole', 'device_category': 'HMD Global'}\n",
      "{'oem_id': '76.62', 'release_date': '720', 'announcement_date': '1600', 'dimensions': '1-hole', 'device_category': 'HMD Global'}\n",
      "{'oem_id': '76.62', 'release_date': '720', 'announcement_date': '1600', 'dimensions': '1-hole', 'device_category': 'HMD Global'}\n",
      "{'oem_id': '76.62', 'release_date': '720', 'announcement_date': '1600', 'dimensions': '1-hole', 'device_category': 'HMD Global'}\n",
      "{'oem_id': '251.2', 'release_date': '2000', 'announcement_date': '1200', 'dimensions': '1-hole', 'device_category': 'Lenovo'}\n",
      "{'oem_id': '75.9', 'release_date': '720', 'announcement_date': '1600', 'dimensions': '1-hole', 'device_category': 'Samsung Electronics'}\n",
      "{'oem_id': '75.9', 'release_date': '720', 'announcement_date': '1600', 'dimensions': '1-hole', 'device_category': 'Samsung Electronics'}\n",
      "{'oem_id': '75.9', 'release_date': '720', 'announcement_date': '1600', 'dimensions': '1-hole', 'device_category': 'Samsung Electronics'}\n",
      "{'oem_id': '75.9', 'release_date': '720', 'announcement_date': '1600', 'dimensions': '1-hole', 'device_category': 'Samsung Electronics'}\n",
      "{'oem_id': '76.7', 'release_date': '720', 'announcement_date': '1600', 'dimensions': '1-hole', 'device_category': 'Samsung Electronics'}\n",
      "{'oem_id': '74.65', 'release_date': '720', 'announcement_date': '1600', 'dimensions': '1-hole', 'device_category': 'Motorola Mobile Devices'}\n",
      "{'oem_id': '74.65', 'release_date': '720', 'announcement_date': '1600', 'dimensions': '1-hole', 'device_category': 'Motorola Mobile Devices'}\n",
      "{'oem_id': '74.94', 'release_date': '720', 'announcement_date': '1600', 'dimensions': '1-hole', 'device_category': 'Motorola Mobile Devices'}\n",
      "{'oem_id': '75.9', 'release_date': '720', 'announcement_date': '1600', 'dimensions': '1-hole', 'device_category': 'HMD Global'}\n",
      "{'oem_id': '75.9', 'release_date': '720', 'announcement_date': '1600', 'dimensions': '1-hole', 'device_category': 'HMD Global'}\n",
      "{'oem_id': '174.1', 'release_date': '1620', 'announcement_date': '2160', 'dimensions': '1-hole', 'device_category': 'Apple'}\n",
      "{'oem_id': '174.1', 'release_date': '1620', 'announcement_date': '2160', 'dimensions': '1-hole', 'device_category': 'Apple'}\n",
      "{'oem_id': '174.1', 'release_date': '1620', 'announcement_date': '2160', 'dimensions': '1-hole', 'device_category': 'Apple'}\n",
      "{'oem_id': '174.1', 'release_date': '1620', 'announcement_date': '2160', 'dimensions': '1-hole', 'device_category': 'Apple'}\n",
      "{'oem_id': '174.1', 'release_date': '1620', 'announcement_date': '2160', 'dimensions': '1-hole', 'device_category': 'Apple'}\n",
      "{'oem_id': '174.1', 'release_date': '1620', 'announcement_date': '2160', 'dimensions': '1-hole', 'device_category': 'Apple'}\n",
      "{'oem_id': '174.1', 'release_date': '1620', 'announcement_date': '2160', 'dimensions': '1-hole', 'device_category': 'Apple'}\n",
      "{'oem_id': '174.1', 'release_date': '1620', 'announcement_date': '2160', 'dimensions': '1-hole', 'device_category': 'Apple'}\n",
      "{'oem_id': '75.9', 'release_date': '720', 'announcement_date': '1600', 'dimensions': '1-hole', 'device_category': 'Motorola Mobile Devices'}\n",
      "{'oem_id': '77.92', 'release_date': '720', 'announcement_date': '1560', 'dimensions': '1-hole', 'device_category': 'LG Electronics'}\n",
      "{'oem_id': '77.92', 'release_date': '720', 'announcement_date': '1560', 'dimensions': '1-hole', 'device_category': 'LG Electronics'}\n",
      "{'oem_id': '75.8', 'release_date': '720', 'announcement_date': '1600', 'dimensions': '1-hole', 'device_category': 'Samsung Electronics'}\n",
      "{'oem_id': '77.92', 'release_date': '720', 'announcement_date': '1560', 'dimensions': '1-hole', 'device_category': 'LG Electronics'}\n",
      "{'oem_id': '75.9', 'release_date': '720', 'announcement_date': '1600', 'dimensions': '1-hole', 'device_category': 'Samsung Electronics'}\n",
      "{'oem_id': '75.9', 'release_date': '720', 'announcement_date': '1600', 'dimensions': '1-hole', 'device_category': 'Samsung Electronics'}\n",
      "{'oem_id': '174.1', 'release_date': '1620', 'announcement_date': '2160', 'dimensions': '1-hole', 'device_category': 'Apple'}\n",
      "{'oem_id': '174.1', 'release_date': '1620', 'announcement_date': '2160', 'dimensions': '1-hole', 'device_category': 'Apple'}\n",
      "{'oem_id': '174.1', 'release_date': '1620', 'announcement_date': '2160', 'dimensions': '1-hole', 'device_category': 'Apple'}\n",
      "{'oem_id': '174.1', 'release_date': '1620', 'announcement_date': '2160', 'dimensions': '1-hole', 'device_category': 'Apple'}\n",
      "{'oem_id': '174.1', 'release_date': '1620', 'announcement_date': '2160', 'dimensions': '1-hole', 'device_category': 'Apple'}\n",
      "{'oem_id': '174.1', 'release_date': '1620', 'announcement_date': '2160', 'dimensions': '1-hole', 'device_category': 'Apple'}\n",
      "{'oem_id': '174.1', 'release_date': '1620', 'announcement_date': '2160', 'dimensions': '1-hole', 'device_category': 'Apple'}\n",
      "{'oem_id': '174.1', 'release_date': '1620', 'announcement_date': '2160', 'dimensions': '1-hole', 'device_category': 'Apple'}\n",
      "{'oem_id': '77.9', 'release_date': '720', 'announcement_date': '1560', 'dimensions': '1-hole', 'device_category': 'LG Electronics'}\n"
     ]
    }
   ],
   "source": [
    "import csv\n",
    "\n",
    "file_name = \"device_features.csv\"\n",
    "\n",
    "def retrieve_device_info_by_ram_capacity(ram_capacity):\n",
    "    try:\n",
    "        with open(file_name, encoding='UTF-8') as csv_file:\n",
    "            print(f\"{file_name} is now open for read\")\n",
    "            \n",
    "            csv_reader = csv.reader(csv_file)\n",
    "            \n",
    "            # Initialize a list to store matching devices\n",
    "            matching_devices = []\n",
    "            \n",
    "            for row in csv_reader:\n",
    "                # Check if the row has data and matches the RAM capacity\n",
    "                if len(row) > 0 and row[23].lower() == ram_capacity.lower():\n",
    "                    device_info = {\n",
    "                        \"oem_id\": row[10],          # Retrieve oem_id\n",
    "                        \"release_date\": row[46],    # Retrieve release date\n",
    "                        \"announcement_date\": row[47], # Retrieve announcement date\n",
    "                        \"dimensions\": row[25],     # Retrieve dimensions\n",
    "                        \"device_category\": row[5]  # Retrieve device category\n",
    "                    }\n",
    "                    matching_devices.append(device_info)\n",
    "            \n",
    "            if matching_devices:\n",
    "                # Displaying the retrieved device information\n",
    "                print(\"Devices with RAM capacity\", ram_capacity)\n",
    "                for device in matching_devices:\n",
    "                    print(device)\n",
    "            else:\n",
    "                print(\"No devices found with RAM capacity\", ram_capacity)\n",
    "        \n",
    "    except IOError:\n",
    "        print(\"Cannot read file.\")\n",
    "\n",
    "# Prompt user for RAM capacity input\n",
    "ram_capacity_input = input(\"Please enter the RAM capacity: \")\n",
    "\n",
    "# Call the function to retrieve device information based on RAM capacity\n",
    "retrieve_device_info_by_ram_capacity(ram_capacity_input)\n"
   ]
  },
  {
   "cell_type": "code",
   "execution_count": 33,
   "id": "d38dcb76-2440-41d7-bb43-20510b780824",
   "metadata": {},
   "outputs": [
    {
     "name": "stdin",
     "output_type": "stream",
     "text": [
      "Please enter the CPU model:  Samsung Exynos 8 Octa 850 S5E8380, 2020, 64 bit, octa-core, 8 nm, ARM Mali-G52 GPU\n"
     ]
    },
    {
     "name": "stdout",
     "output_type": "stream",
     "text": [
      "device_features.csv is now open for read\n",
      "No devices found with CPU model 'Samsung Exynos 8 Octa 850 S5E8380, 2020, 64 bit, octa-core, 8 nm, ARM Mali-G52 GPU'\n"
     ]
    }
   ],
   "source": [
    "import csv\n",
    "\n",
    "file_name = \"device_features.csv\"\n",
    "\n",
    "def retrieve_device_info_by_cpu(cpu_model):\n",
    "    try:\n",
    "        with open(file_name, encoding='UTF-8') as csv_file:\n",
    "            print(f\"{file_name} is now open for read\")\n",
    "            \n",
    "            csv_reader = csv.reader(csv_file)\n",
    "            \n",
    "            matching_devices = []\n",
    "            \n",
    "            for row in csv_reader:\n",
    "                if len(row) > 0 and cpu_model.lower() in row[22].lower():\n",
    "                    device_info = {\n",
    "                        \"Model Name\": row[2],       # Retrieve model name\n",
    "                        \"CPU\": row[22],            # Retrieve CPU\n",
    "                        \"Platform\": row[16],       # Retrieve platform\n",
    "                        \"RAM Type\": row[21]        # Retrieve RAM type\n",
    "                    }\n",
    "                    matching_devices.append(device_info)\n",
    "            \n",
    "            if matching_devices:\n",
    "                print(f\"Devices with CPU model '{cpu_model}':\")\n",
    "                for device in matching_devices:\n",
    "                    print(device)\n",
    "            else:\n",
    "                print(f\"No devices found with CPU model '{cpu_model}'\")\n",
    "        \n",
    "    except IOError:\n",
    "        print(\"Cannot read file.\")\n",
    "\n",
    "# Prompt user for CPU model input\n",
    "cpu_model_input = input(\"Please enter the CPU model: \")\n",
    "\n",
    "# Call the function to retrieve device information based on CPU model\n",
    "retrieve_device_info_by_cpu(cpu_model_input)\n"
   ]
  },
  {
   "cell_type": "code",
   "execution_count": null,
   "id": "6a1ff734-d5d7-445f-b925-77a6dc7f8996",
   "metadata": {},
   "outputs": [],
   "source": []
  }
 ],
 "metadata": {
  "kernelspec": {
   "display_name": "COM278",
   "language": "python",
   "name": "com278"
  },
  "language_info": {
   "codemirror_mode": {
    "name": "ipython",
    "version": 3
   },
   "file_extension": ".py",
   "mimetype": "text/x-python",
   "name": "python",
   "nbconvert_exporter": "python",
   "pygments_lexer": "ipython3",
   "version": "3.11.5"
  }
 },
 "nbformat": 4,
 "nbformat_minor": 5
}
