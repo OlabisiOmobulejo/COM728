{
 "cells": [
  {
   "cell_type": "markdown",
   "id": "cd45823f",
   "metadata": {},
   "source": [
    "## IMPORTING AND READING FROM THE CSV FILE USING THE OEM ID"
   ]
  },
  {
   "cell_type": "code",
   "execution_count": 34,
   "id": "748b4e30",
   "metadata": {},
   "outputs": [
    {
     "name": "stdout",
     "output_type": "stream",
     "text": [
      "device_features.csv is now open for read\n"
     ]
    },
    {
     "name": "stdin",
     "output_type": "stream",
     "text": [
      "please enter the oem_id mc400\n"
     ]
    },
    {
     "name": "stdout",
     "output_type": "stream",
     "text": [
      "[{'Brand': 'Motorola', 'Model': 'Moto G53 5G 2022 Premium Edition TD-LTE LATAM 128GB XT2335-1', 'Manufacture': 'Lenovo', 'price': '4999', 'Price_currency': 'MXN'}]\n",
      "[{'Brand': 'Motorola', 'Model': 'Moto G53 5G 2022 Premium Edition TD-LTE LATAM 128GB XT2335-1', 'Manufacture': 'Lenovo', 'price': '4999', 'Price_currency': 'MXN'}, {'Brand': 'Motorola', 'Model': 'Moto G53 5G 2022 Standard Edition Dual SIM TD-LTE LATAM 128GB XT2335-1', 'Manufacture': 'Lenovo', 'price': '1899', 'Price_currency': 'BRL'}]\n"
     ]
    }
   ],
   "source": [
    "# Import csv library\n",
    "\n",
    "import csv\n",
    "\n",
    "# define a file name\n",
    "\n",
    "file_name = \"device_features.csv\"\n",
    "\n",
    "# Open the test.csv file but test.csv does not exist however \n",
    "try:\n",
    "    with open(file_name,encoding='UTF-8') as csv_file:\n",
    "        print(f\"{file_name} is now open for read\")\n",
    "        \n",
    "        #read from the csv file\n",
    "        csv_reader = csv.reader(csv_file)\n",
    "        \n",
    "        #accept input from the user - oem_id\n",
    "        oem_id = input(\"please enter the oem_id\")\n",
    "        \n",
    "        result =[]\n",
    "        # Display rows where user input matches oem_id\n",
    "\n",
    "\n",
    "        for row in csv_reader:\n",
    "            if(oem_id.lower() == row[0].lower()):\n",
    "                result.append({ \n",
    "                    \"Brand\": row[1],\n",
    "                    \"Model\" : row[2],\n",
    "                    \"Manufacture\" : row [6],\n",
    "                    \"price\" : row [15],\n",
    "                    \"Price_currency\" :row  [16]\n",
    "                               \n",
    "                              \n",
    "                              })       \n",
    "                print(result)\n",
    "        \n",
    "    \n",
    "except IOError:\n",
    "    print(\"Cannot read file.\")\n"
   ]
  },
  {
   "cell_type": "code",
   "execution_count": 37,
   "id": "6e78943c-31ab-44da-83d3-8e9182460d94",
   "metadata": {},
   "outputs": [
    {
     "name": "stdout",
     "output_type": "stream",
     "text": [
      "device_features.csv is now open for read\n"
     ]
    },
    {
     "name": "stdin",
     "output_type": "stream",
     "text": [
      "Please enter the code name:  HMD Orion\n"
     ]
    },
    {
     "name": "stdout",
     "output_type": "stream",
     "text": [
      "No matching rows found.\n"
     ]
    }
   ],
   "source": [
    "import csv\n",
    "\n",
    "file_name = \"device_features.csv\"\n",
    "\n",
    "try:\n",
    "    with open(file_name, encoding='UTF-8') as csv_file:\n",
    "        print(f\"{file_name} is now open for read\")\n",
    "        \n",
    "        csv_reader = csv.reader(csv_file)\n",
    "        \n",
    "        codename = input(\"Please enter the code name: \")\n",
    "        \n",
    "        result = []\n",
    "        \n",
    "        for row in csv_reader:\n",
    "            if codename.lower() == row[0].lower():\n",
    "                result.append({ \n",
    "                    \"Brand\": row[1],\n",
    "                    \"Model\": row[2],\n",
    "                    \"Ram_capacity\": row[23],\n",
    "                    \"market_regions\": row[44],\n",
    "                    \"info_added_date\": row[45]\n",
    "                })\n",
    "        \n",
    "        if result:\n",
    "            print(\"Matching rows found:\")\n",
    "            for item in result:\n",
    "                print(item)\n",
    "        else:\n",
    "            print(\"No matching rows found.\")\n",
    "    \n",
    "except IOError:\n",
    "    print(\"Cannot read file.\")\n"
   ]
  },
  {
   "cell_type": "code",
   "execution_count": 36,
   "id": "9a51c07c",
   "metadata": {},
   "outputs": [
    {
     "name": "stdout",
     "output_type": "stream",
     "text": [
      "device_features.csv is now open for read\n"
     ]
    },
    {
     "name": "stdin",
     "output_type": "stream",
     "text": [
      "please enter the code name HMD Orion\n"
     ]
    },
    {
     "name": "stdout",
     "output_type": "stream",
     "text": [
      "[]\n"
     ]
    }
   ],
   "source": [
    "import csv\n",
    "\n",
    "file_name = \"device_features.csv\"\n",
    "\n",
    "try:\n",
    "    with open(file_name, encoding='UTF-8') as csv_file:\n",
    "        print(f\"{file_name} is now open for read\")\n",
    "        \n",
    "        csv_reader = csv.reader(csv_file)\n",
    "        \n",
    "        Codename = input(\"please enter the code name\")\n",
    "        \n",
    "        result = []\n",
    "        \n",
    "        for row in csv_reader:\n",
    "            if Codename.lower() == row[0].lower():\n",
    "                result.append({ \n",
    "                    \"Brand\": row[1],\n",
    "                    \"Model\": row[2],\n",
    "                    \"Ram_capacity\": row[23],\n",
    "                    \"market_regions\": row[44],\n",
    "                    \"info_added_date\": row[45]\n",
    "                })       \n",
    "        print(result)\n",
    "    \n",
    "except IOError:\n",
    "    print(\"Cannot read file.\")\n",
    "\n"
   ]
  },
  {
   "cell_type": "code",
   "execution_count": 38,
   "id": "1b7ccbd4-9e26-4ec9-b02f-e41d7bd418ea",
   "metadata": {},
   "outputs": [
    {
     "name": "stdin",
     "output_type": "stream",
     "text": [
      "Please enter the code name:  HMD ORION\n"
     ]
    },
    {
     "name": "stdout",
     "output_type": "stream",
     "text": [
      "device_features.csv is now open for read\n",
      "No devices found with code name 'HMD ORION'\n"
     ]
    }
   ],
   "source": [
    "import csv\n",
    "\n",
    "file_name = \"device_features.csv\"\n",
    "\n",
    "def retrieve_device_info_by_code_name(code_name):\n",
    "    try:\n",
    "        with open(file_name, encoding='UTF-8') as csv_file:\n",
    "            print(f\"{file_name} is now open for read\")\n",
    "            \n",
    "            csv_reader = csv.reader(csv_file)\n",
    "            \n",
    "            matching_devices = []\n",
    "            \n",
    "            for row in csv_reader:\n",
    "                if len(row) > 0 and row[0].lower() == code_name.lower():\n",
    "                    device_info = {\n",
    "                        \"Brand\": row[1],                # Retrieve brand\n",
    "                        \"Model Name\": row[2],           # Retrieve model name\n",
    "                        \"RAM Capacity\": row[23],        # Retrieve RAM capacity\n",
    "                        \"Market Regions\": row[44],      # Retrieve market regions\n",
    "                        \"Info Added Date\": row[45]      # Retrieve info added date\n",
    "                    }\n",
    "                    matching_devices.append(device_info)\n",
    "            \n",
    "            if matching_devices:\n",
    "                print(f\"Devices associated with code name '{code_name}':\")\n",
    "                for device in matching_devices:\n",
    "                    print(device)\n",
    "            else:\n",
    "                print(f\"No devices found with code name '{code_name}'\")\n",
    "        \n",
    "    except IOError:\n",
    "        print(\"Cannot read file.\")\n",
    "\n",
    "# Prompt user for code name input\n",
    "code_name_input = input(\"Please enter the code name: \")\n",
    "\n",
    "# Call the function to retrieve device information based on code name\n",
    "retrieve_device_info_by_code_name(code_name_input)\n"
   ]
  },
  {
   "cell_type": "code",
   "execution_count": 39,
   "id": "0f146b05-e2bd-4b94-b7bf-082103240822",
   "metadata": {},
   "outputs": [
    {
     "name": "stdin",
     "output_type": "stream",
     "text": [
      "Please enter the RAM capacity:  3\n"
     ]
    },
    {
     "name": "stdout",
     "output_type": "stream",
     "text": [
      "device_features.csv is now open for read\n",
      "Devices with RAM capacity 3\n",
      "{'oem_id': '76.4', 'release_date': '1080', 'announcement_date': '2408', 'dimensions': '1-hole', 'device_category': 'Samsung Electronics'}\n",
      "{'oem_id': '76.4', 'release_date': '1080', 'announcement_date': '2408', 'dimensions': '1-hole', 'device_category': 'Samsung Electronics'}\n",
      "{'oem_id': '76.4', 'release_date': '1080', 'announcement_date': '2408', 'dimensions': '1-hole', 'device_category': 'Samsung Electronics'}\n",
      "{'oem_id': '76.4', 'release_date': '1080', 'announcement_date': '2408', 'dimensions': '1-hole', 'device_category': 'Samsung Electronics'}\n",
      "{'oem_id': '73.9', 'release_date': '720', 'announcement_date': '1560', 'dimensions': '1-hole', 'device_category': 'HMD Global'}\n",
      "{'oem_id': '73.9', 'release_date': '720', 'announcement_date': '1560', 'dimensions': '1-hole', 'device_category': 'HMD Global'}\n",
      "{'oem_id': '76.62', 'release_date': '720', 'announcement_date': '1600', 'dimensions': '1-hole', 'device_category': 'HMD Global'}\n",
      "{'oem_id': '76.62', 'release_date': '720', 'announcement_date': '1600', 'dimensions': '1-hole', 'device_category': 'HMD Global'}\n",
      "{'oem_id': '76.62', 'release_date': '720', 'announcement_date': '1600', 'dimensions': '1-hole', 'device_category': 'HMD Global'}\n",
      "{'oem_id': '76.62', 'release_date': '720', 'announcement_date': '1600', 'dimensions': '1-hole', 'device_category': 'HMD Global'}\n",
      "{'oem_id': '251.2', 'release_date': '2000', 'announcement_date': '1200', 'dimensions': '1-hole', 'device_category': 'Lenovo'}\n",
      "{'oem_id': '75.9', 'release_date': '720', 'announcement_date': '1600', 'dimensions': '1-hole', 'device_category': 'Samsung Electronics'}\n",
      "{'oem_id': '75.9', 'release_date': '720', 'announcement_date': '1600', 'dimensions': '1-hole', 'device_category': 'Samsung Electronics'}\n",
      "{'oem_id': '75.9', 'release_date': '720', 'announcement_date': '1600', 'dimensions': '1-hole', 'device_category': 'Samsung Electronics'}\n",
      "{'oem_id': '75.9', 'release_date': '720', 'announcement_date': '1600', 'dimensions': '1-hole', 'device_category': 'Samsung Electronics'}\n",
      "{'oem_id': '76.7', 'release_date': '720', 'announcement_date': '1600', 'dimensions': '1-hole', 'device_category': 'Samsung Electronics'}\n",
      "{'oem_id': '74.65', 'release_date': '720', 'announcement_date': '1600', 'dimensions': '1-hole', 'device_category': 'Motorola Mobile Devices'}\n",
      "{'oem_id': '74.65', 'release_date': '720', 'announcement_date': '1600', 'dimensions': '1-hole', 'device_category': 'Motorola Mobile Devices'}\n",
      "{'oem_id': '74.94', 'release_date': '720', 'announcement_date': '1600', 'dimensions': '1-hole', 'device_category': 'Motorola Mobile Devices'}\n",
      "{'oem_id': '75.9', 'release_date': '720', 'announcement_date': '1600', 'dimensions': '1-hole', 'device_category': 'HMD Global'}\n",
      "{'oem_id': '75.9', 'release_date': '720', 'announcement_date': '1600', 'dimensions': '1-hole', 'device_category': 'HMD Global'}\n",
      "{'oem_id': '174.1', 'release_date': '1620', 'announcement_date': '2160', 'dimensions': '1-hole', 'device_category': 'Apple'}\n",
      "{'oem_id': '174.1', 'release_date': '1620', 'announcement_date': '2160', 'dimensions': '1-hole', 'device_category': 'Apple'}\n",
      "{'oem_id': '174.1', 'release_date': '1620', 'announcement_date': '2160', 'dimensions': '1-hole', 'device_category': 'Apple'}\n",
      "{'oem_id': '174.1', 'release_date': '1620', 'announcement_date': '2160', 'dimensions': '1-hole', 'device_category': 'Apple'}\n",
      "{'oem_id': '174.1', 'release_date': '1620', 'announcement_date': '2160', 'dimensions': '1-hole', 'device_category': 'Apple'}\n",
      "{'oem_id': '174.1', 'release_date': '1620', 'announcement_date': '2160', 'dimensions': '1-hole', 'device_category': 'Apple'}\n",
      "{'oem_id': '174.1', 'release_date': '1620', 'announcement_date': '2160', 'dimensions': '1-hole', 'device_category': 'Apple'}\n",
      "{'oem_id': '174.1', 'release_date': '1620', 'announcement_date': '2160', 'dimensions': '1-hole', 'device_category': 'Apple'}\n",
      "{'oem_id': '75.9', 'release_date': '720', 'announcement_date': '1600', 'dimensions': '1-hole', 'device_category': 'Motorola Mobile Devices'}\n",
      "{'oem_id': '77.92', 'release_date': '720', 'announcement_date': '1560', 'dimensions': '1-hole', 'device_category': 'LG Electronics'}\n",
      "{'oem_id': '77.92', 'release_date': '720', 'announcement_date': '1560', 'dimensions': '1-hole', 'device_category': 'LG Electronics'}\n",
      "{'oem_id': '75.8', 'release_date': '720', 'announcement_date': '1600', 'dimensions': '1-hole', 'device_category': 'Samsung Electronics'}\n",
      "{'oem_id': '77.92', 'release_date': '720', 'announcement_date': '1560', 'dimensions': '1-hole', 'device_category': 'LG Electronics'}\n",
      "{'oem_id': '75.9', 'release_date': '720', 'announcement_date': '1600', 'dimensions': '1-hole', 'device_category': 'Samsung Electronics'}\n",
      "{'oem_id': '75.9', 'release_date': '720', 'announcement_date': '1600', 'dimensions': '1-hole', 'device_category': 'Samsung Electronics'}\n",
      "{'oem_id': '174.1', 'release_date': '1620', 'announcement_date': '2160', 'dimensions': '1-hole', 'device_category': 'Apple'}\n",
      "{'oem_id': '174.1', 'release_date': '1620', 'announcement_date': '2160', 'dimensions': '1-hole', 'device_category': 'Apple'}\n",
      "{'oem_id': '174.1', 'release_date': '1620', 'announcement_date': '2160', 'dimensions': '1-hole', 'device_category': 'Apple'}\n",
      "{'oem_id': '174.1', 'release_date': '1620', 'announcement_date': '2160', 'dimensions': '1-hole', 'device_category': 'Apple'}\n",
      "{'oem_id': '174.1', 'release_date': '1620', 'announcement_date': '2160', 'dimensions': '1-hole', 'device_category': 'Apple'}\n",
      "{'oem_id': '174.1', 'release_date': '1620', 'announcement_date': '2160', 'dimensions': '1-hole', 'device_category': 'Apple'}\n",
      "{'oem_id': '174.1', 'release_date': '1620', 'announcement_date': '2160', 'dimensions': '1-hole', 'device_category': 'Apple'}\n",
      "{'oem_id': '174.1', 'release_date': '1620', 'announcement_date': '2160', 'dimensions': '1-hole', 'device_category': 'Apple'}\n",
      "{'oem_id': '77.9', 'release_date': '720', 'announcement_date': '1560', 'dimensions': '1-hole', 'device_category': 'LG Electronics'}\n"
     ]
    }
   ],
   "source": [
    "import csv\n",
    "\n",
    "file_name = \"device_features.csv\"\n",
    "\n",
    "def retrieve_device_info_by_ram_capacity(ram_capacity):\n",
    "    try:\n",
    "        with open(file_name, encoding='UTF-8') as csv_file:\n",
    "            print(f\"{file_name} is now open for read\")\n",
    "            \n",
    "            csv_reader = csv.reader(csv_file)\n",
    "            \n",
    "            # Initialize a list to store matching devices\n",
    "            matching_devices = []\n",
    "            \n",
    "            for row in csv_reader:\n",
    "                # Check if the row has data and matches the RAM capacity\n",
    "                if len(row) > 0 and row[23].lower() == ram_capacity.lower():\n",
    "                    device_info = {\n",
    "                        \"oem_id\": row[10],          # Retrieve oem_id\n",
    "                        \"release_date\": row[46],    # Retrieve release date\n",
    "                        \"announcement_date\": row[47], # Retrieve announcement date\n",
    "                        \"dimensions\": row[25],     # Retrieve dimensions\n",
    "                        \"device_category\": row[5]  # Retrieve device category\n",
    "                    }\n",
    "                    matching_devices.append(device_info)\n",
    "            \n",
    "            if matching_devices:\n",
    "                # Displaying the retrieved device information\n",
    "                print(\"Devices with RAM capacity\", ram_capacity)\n",
    "                for device in matching_devices:\n",
    "                    print(device)\n",
    "            else:\n",
    "                print(\"No devices found with RAM capacity\", ram_capacity)\n",
    "        \n",
    "    except IOError:\n",
    "        print(\"Cannot read file.\")\n",
    "\n",
    "# Prompt user for RAM capacity input\n",
    "ram_capacity_input = input(\"Please enter the RAM capacity: \")\n",
    "\n",
    "# Call the function to retrieve device information based on RAM capacity\n",
    "retrieve_device_info_by_ram_capacity(ram_capacity_input)\n"
   ]
  },
  {
   "cell_type": "code",
   "execution_count": 33,
   "id": "d38dcb76-2440-41d7-bb43-20510b780824",
   "metadata": {},
   "outputs": [
    {
     "name": "stdin",
     "output_type": "stream",
     "text": [
      "Please enter the CPU model:  Samsung Exynos 8 Octa 850 S5E8380, 2020, 64 bit, octa-core, 8 nm, ARM Mali-G52 GPU\n"
     ]
    },
    {
     "name": "stdout",
     "output_type": "stream",
     "text": [
      "device_features.csv is now open for read\n",
      "No devices found with CPU model 'Samsung Exynos 8 Octa 850 S5E8380, 2020, 64 bit, octa-core, 8 nm, ARM Mali-G52 GPU'\n"
     ]
    }
   ],
   "source": [
    "import csv\n",
    "\n",
    "file_name = \"device_features.csv\"\n",
    "\n",
    "def retrieve_device_info_by_cpu(cpu_model):\n",
    "    try:\n",
    "        with open(file_name, encoding='UTF-8') as csv_file:\n",
    "            print(f\"{file_name} is now open for read\")\n",
    "            \n",
    "            csv_reader = csv.reader(csv_file)\n",
    "            \n",
    "            matching_devices = []\n",
    "            \n",
    "            for row in csv_reader:\n",
    "                if len(row) > 0 and cpu_model.lower() in row[22].lower():\n",
    "                    device_info = {\n",
    "                        \"Model Name\": row[2],       # Retrieve model name\n",
    "                        \"CPU\": row[22],            # Retrieve CPU\n",
    "                        \"Platform\": row[16],       # Retrieve platform\n",
    "                        \"RAM Type\": row[21]        # Retrieve RAM type\n",
    "                    }\n",
    "                    matching_devices.append(device_info)\n",
    "            \n",
    "            if matching_devices:\n",
    "                print(f\"Devices with CPU model '{cpu_model}':\")\n",
    "                for device in matching_devices:\n",
    "                    print(device)\n",
    "            else:\n",
    "                print(f\"No devices found with CPU model '{cpu_model}'\")\n",
    "        \n",
    "    except IOError:\n",
    "        print(\"Cannot read file.\")\n",
    "\n",
    "# user prompt to enter the cpu model\n",
    "cpu_model_input = input(\"Please enter the CPU model: \")\n",
    "\n",
    "# Call the function to retrieve device information based on CPU model\n",
    "retrieve_device_info_by_cpu(cpu_model_input)\n"
   ]
  },
  {
   "cell_type": "code",
   "execution_count": 51,
   "id": "78393284-d9be-4662-a901-1e87424e393f",
   "metadata": {},
   "outputs": [
    {
     "ename": "FileNotFoundError",
     "evalue": "[Errno 2] No such file or directory: 'omobulejoolabisi/Documents/GitHub/COM728/COM728_AE1_omobulejo_olabisi/file_name.csv'",
     "output_type": "error",
     "traceback": [
      "\u001b[0;31m---------------------------------------------------------------------------\u001b[0m",
      "\u001b[0;31mFileNotFoundError\u001b[0m                         Traceback (most recent call last)",
      "Cell \u001b[0;32mIn[51], line 7\u001b[0m\n\u001b[1;32m      4\u001b[0m file_path \u001b[38;5;241m=\u001b[39m \u001b[38;5;124m\"\u001b[39m\u001b[38;5;124momobulejoolabisi/Documents/GitHub/COM728/COM728_AE1_omobulejo_olabisi/file_name.csv\u001b[39m\u001b[38;5;124m\"\u001b[39m\n\u001b[1;32m      6\u001b[0m \u001b[38;5;66;03m# Load the CSV file into a pandas DataFrame\u001b[39;00m\n\u001b[0;32m----> 7\u001b[0m data \u001b[38;5;241m=\u001b[39m pd\u001b[38;5;241m.\u001b[39mread_csv(file_path)\n\u001b[1;32m      9\u001b[0m \u001b[38;5;66;03m# Define the specific brand\u001b[39;00m\n\u001b[1;32m     10\u001b[0m brand_name \u001b[38;5;241m=\u001b[39m \u001b[38;5;124m\"\u001b[39m\u001b[38;5;124msamsung\u001b[39m\u001b[38;5;124m\"\u001b[39m  \u001b[38;5;66;03m# Replace 'Your Brand Name' with the actual brand name\u001b[39;00m\n",
      "File \u001b[0;32m~/anaconda3/envs/COM728/lib/python3.11/site-packages/pandas/io/parsers/readers.py:948\u001b[0m, in \u001b[0;36mread_csv\u001b[0;34m(filepath_or_buffer, sep, delimiter, header, names, index_col, usecols, dtype, engine, converters, true_values, false_values, skipinitialspace, skiprows, skipfooter, nrows, na_values, keep_default_na, na_filter, verbose, skip_blank_lines, parse_dates, infer_datetime_format, keep_date_col, date_parser, date_format, dayfirst, cache_dates, iterator, chunksize, compression, thousands, decimal, lineterminator, quotechar, quoting, doublequote, escapechar, comment, encoding, encoding_errors, dialect, on_bad_lines, delim_whitespace, low_memory, memory_map, float_precision, storage_options, dtype_backend)\u001b[0m\n\u001b[1;32m    935\u001b[0m kwds_defaults \u001b[38;5;241m=\u001b[39m _refine_defaults_read(\n\u001b[1;32m    936\u001b[0m     dialect,\n\u001b[1;32m    937\u001b[0m     delimiter,\n\u001b[0;32m   (...)\u001b[0m\n\u001b[1;32m    944\u001b[0m     dtype_backend\u001b[38;5;241m=\u001b[39mdtype_backend,\n\u001b[1;32m    945\u001b[0m )\n\u001b[1;32m    946\u001b[0m kwds\u001b[38;5;241m.\u001b[39mupdate(kwds_defaults)\n\u001b[0;32m--> 948\u001b[0m \u001b[38;5;28;01mreturn\u001b[39;00m _read(filepath_or_buffer, kwds)\n",
      "File \u001b[0;32m~/anaconda3/envs/COM728/lib/python3.11/site-packages/pandas/io/parsers/readers.py:611\u001b[0m, in \u001b[0;36m_read\u001b[0;34m(filepath_or_buffer, kwds)\u001b[0m\n\u001b[1;32m    608\u001b[0m _validate_names(kwds\u001b[38;5;241m.\u001b[39mget(\u001b[38;5;124m\"\u001b[39m\u001b[38;5;124mnames\u001b[39m\u001b[38;5;124m\"\u001b[39m, \u001b[38;5;28;01mNone\u001b[39;00m))\n\u001b[1;32m    610\u001b[0m \u001b[38;5;66;03m# Create the parser.\u001b[39;00m\n\u001b[0;32m--> 611\u001b[0m parser \u001b[38;5;241m=\u001b[39m TextFileReader(filepath_or_buffer, \u001b[38;5;241m*\u001b[39m\u001b[38;5;241m*\u001b[39mkwds)\n\u001b[1;32m    613\u001b[0m \u001b[38;5;28;01mif\u001b[39;00m chunksize \u001b[38;5;129;01mor\u001b[39;00m iterator:\n\u001b[1;32m    614\u001b[0m     \u001b[38;5;28;01mreturn\u001b[39;00m parser\n",
      "File \u001b[0;32m~/anaconda3/envs/COM728/lib/python3.11/site-packages/pandas/io/parsers/readers.py:1448\u001b[0m, in \u001b[0;36mTextFileReader.__init__\u001b[0;34m(self, f, engine, **kwds)\u001b[0m\n\u001b[1;32m   1445\u001b[0m     \u001b[38;5;28mself\u001b[39m\u001b[38;5;241m.\u001b[39moptions[\u001b[38;5;124m\"\u001b[39m\u001b[38;5;124mhas_index_names\u001b[39m\u001b[38;5;124m\"\u001b[39m] \u001b[38;5;241m=\u001b[39m kwds[\u001b[38;5;124m\"\u001b[39m\u001b[38;5;124mhas_index_names\u001b[39m\u001b[38;5;124m\"\u001b[39m]\n\u001b[1;32m   1447\u001b[0m \u001b[38;5;28mself\u001b[39m\u001b[38;5;241m.\u001b[39mhandles: IOHandles \u001b[38;5;241m|\u001b[39m \u001b[38;5;28;01mNone\u001b[39;00m \u001b[38;5;241m=\u001b[39m \u001b[38;5;28;01mNone\u001b[39;00m\n\u001b[0;32m-> 1448\u001b[0m \u001b[38;5;28mself\u001b[39m\u001b[38;5;241m.\u001b[39m_engine \u001b[38;5;241m=\u001b[39m \u001b[38;5;28mself\u001b[39m\u001b[38;5;241m.\u001b[39m_make_engine(f, \u001b[38;5;28mself\u001b[39m\u001b[38;5;241m.\u001b[39mengine)\n",
      "File \u001b[0;32m~/anaconda3/envs/COM728/lib/python3.11/site-packages/pandas/io/parsers/readers.py:1705\u001b[0m, in \u001b[0;36mTextFileReader._make_engine\u001b[0;34m(self, f, engine)\u001b[0m\n\u001b[1;32m   1703\u001b[0m     \u001b[38;5;28;01mif\u001b[39;00m \u001b[38;5;124m\"\u001b[39m\u001b[38;5;124mb\u001b[39m\u001b[38;5;124m\"\u001b[39m \u001b[38;5;129;01mnot\u001b[39;00m \u001b[38;5;129;01min\u001b[39;00m mode:\n\u001b[1;32m   1704\u001b[0m         mode \u001b[38;5;241m+\u001b[39m\u001b[38;5;241m=\u001b[39m \u001b[38;5;124m\"\u001b[39m\u001b[38;5;124mb\u001b[39m\u001b[38;5;124m\"\u001b[39m\n\u001b[0;32m-> 1705\u001b[0m \u001b[38;5;28mself\u001b[39m\u001b[38;5;241m.\u001b[39mhandles \u001b[38;5;241m=\u001b[39m get_handle(\n\u001b[1;32m   1706\u001b[0m     f,\n\u001b[1;32m   1707\u001b[0m     mode,\n\u001b[1;32m   1708\u001b[0m     encoding\u001b[38;5;241m=\u001b[39m\u001b[38;5;28mself\u001b[39m\u001b[38;5;241m.\u001b[39moptions\u001b[38;5;241m.\u001b[39mget(\u001b[38;5;124m\"\u001b[39m\u001b[38;5;124mencoding\u001b[39m\u001b[38;5;124m\"\u001b[39m, \u001b[38;5;28;01mNone\u001b[39;00m),\n\u001b[1;32m   1709\u001b[0m     compression\u001b[38;5;241m=\u001b[39m\u001b[38;5;28mself\u001b[39m\u001b[38;5;241m.\u001b[39moptions\u001b[38;5;241m.\u001b[39mget(\u001b[38;5;124m\"\u001b[39m\u001b[38;5;124mcompression\u001b[39m\u001b[38;5;124m\"\u001b[39m, \u001b[38;5;28;01mNone\u001b[39;00m),\n\u001b[1;32m   1710\u001b[0m     memory_map\u001b[38;5;241m=\u001b[39m\u001b[38;5;28mself\u001b[39m\u001b[38;5;241m.\u001b[39moptions\u001b[38;5;241m.\u001b[39mget(\u001b[38;5;124m\"\u001b[39m\u001b[38;5;124mmemory_map\u001b[39m\u001b[38;5;124m\"\u001b[39m, \u001b[38;5;28;01mFalse\u001b[39;00m),\n\u001b[1;32m   1711\u001b[0m     is_text\u001b[38;5;241m=\u001b[39mis_text,\n\u001b[1;32m   1712\u001b[0m     errors\u001b[38;5;241m=\u001b[39m\u001b[38;5;28mself\u001b[39m\u001b[38;5;241m.\u001b[39moptions\u001b[38;5;241m.\u001b[39mget(\u001b[38;5;124m\"\u001b[39m\u001b[38;5;124mencoding_errors\u001b[39m\u001b[38;5;124m\"\u001b[39m, \u001b[38;5;124m\"\u001b[39m\u001b[38;5;124mstrict\u001b[39m\u001b[38;5;124m\"\u001b[39m),\n\u001b[1;32m   1713\u001b[0m     storage_options\u001b[38;5;241m=\u001b[39m\u001b[38;5;28mself\u001b[39m\u001b[38;5;241m.\u001b[39moptions\u001b[38;5;241m.\u001b[39mget(\u001b[38;5;124m\"\u001b[39m\u001b[38;5;124mstorage_options\u001b[39m\u001b[38;5;124m\"\u001b[39m, \u001b[38;5;28;01mNone\u001b[39;00m),\n\u001b[1;32m   1714\u001b[0m )\n\u001b[1;32m   1715\u001b[0m \u001b[38;5;28;01massert\u001b[39;00m \u001b[38;5;28mself\u001b[39m\u001b[38;5;241m.\u001b[39mhandles \u001b[38;5;129;01mis\u001b[39;00m \u001b[38;5;129;01mnot\u001b[39;00m \u001b[38;5;28;01mNone\u001b[39;00m\n\u001b[1;32m   1716\u001b[0m f \u001b[38;5;241m=\u001b[39m \u001b[38;5;28mself\u001b[39m\u001b[38;5;241m.\u001b[39mhandles\u001b[38;5;241m.\u001b[39mhandle\n",
      "File \u001b[0;32m~/anaconda3/envs/COM728/lib/python3.11/site-packages/pandas/io/common.py:863\u001b[0m, in \u001b[0;36mget_handle\u001b[0;34m(path_or_buf, mode, encoding, compression, memory_map, is_text, errors, storage_options)\u001b[0m\n\u001b[1;32m    858\u001b[0m \u001b[38;5;28;01melif\u001b[39;00m \u001b[38;5;28misinstance\u001b[39m(handle, \u001b[38;5;28mstr\u001b[39m):\n\u001b[1;32m    859\u001b[0m     \u001b[38;5;66;03m# Check whether the filename is to be opened in binary mode.\u001b[39;00m\n\u001b[1;32m    860\u001b[0m     \u001b[38;5;66;03m# Binary mode does not support 'encoding' and 'newline'.\u001b[39;00m\n\u001b[1;32m    861\u001b[0m     \u001b[38;5;28;01mif\u001b[39;00m ioargs\u001b[38;5;241m.\u001b[39mencoding \u001b[38;5;129;01mand\u001b[39;00m \u001b[38;5;124m\"\u001b[39m\u001b[38;5;124mb\u001b[39m\u001b[38;5;124m\"\u001b[39m \u001b[38;5;129;01mnot\u001b[39;00m \u001b[38;5;129;01min\u001b[39;00m ioargs\u001b[38;5;241m.\u001b[39mmode:\n\u001b[1;32m    862\u001b[0m         \u001b[38;5;66;03m# Encoding\u001b[39;00m\n\u001b[0;32m--> 863\u001b[0m         handle \u001b[38;5;241m=\u001b[39m \u001b[38;5;28mopen\u001b[39m(\n\u001b[1;32m    864\u001b[0m             handle,\n\u001b[1;32m    865\u001b[0m             ioargs\u001b[38;5;241m.\u001b[39mmode,\n\u001b[1;32m    866\u001b[0m             encoding\u001b[38;5;241m=\u001b[39mioargs\u001b[38;5;241m.\u001b[39mencoding,\n\u001b[1;32m    867\u001b[0m             errors\u001b[38;5;241m=\u001b[39merrors,\n\u001b[1;32m    868\u001b[0m             newline\u001b[38;5;241m=\u001b[39m\u001b[38;5;124m\"\u001b[39m\u001b[38;5;124m\"\u001b[39m,\n\u001b[1;32m    869\u001b[0m         )\n\u001b[1;32m    870\u001b[0m     \u001b[38;5;28;01melse\u001b[39;00m:\n\u001b[1;32m    871\u001b[0m         \u001b[38;5;66;03m# Binary mode\u001b[39;00m\n\u001b[1;32m    872\u001b[0m         handle \u001b[38;5;241m=\u001b[39m \u001b[38;5;28mopen\u001b[39m(handle, ioargs\u001b[38;5;241m.\u001b[39mmode)\n",
      "\u001b[0;31mFileNotFoundError\u001b[0m: [Errno 2] No such file or directory: 'omobulejoolabisi/Documents/GitHub/COM728/COM728_AE1_omobulejo_olabisi/file_name.csv'"
     ]
    }
   ],
   "source": [
    "import pandas as pd\n",
    "\n",
    "# Defining my file path\n",
    "file_path = \"omobulejoolabisi/Documents/GitHub/COM728/COM728_AE1_omobulejo_olabisi/file_name.csv\"\n",
    "\n",
    "# Load the CSV file into a pandas DataFrame\n",
    "data = pd.read_csv(file_path)\n",
    "\n",
    "# Define the specific brand\n",
    "brand_name = \"samsung\"  # Replace 'Your Brand Name' with the actual brand name\n",
    "\n",
    "# Filter the data for the specific brand\n",
    "brand_data = data[data['samsung'] == brand_name]\n",
    "\n",
    "# Count the occurrences of regions for the specific brand\n",
    "top_regions = brand_data['market_regions'].value_counts().head(5)\n",
    "\n",
    "print(f\"Top 5 regions where {brand_name} devices were sold:\")\n",
    "print(top_regions)\n"
   ]
  },
  {
   "cell_type": "code",
   "execution_count": null,
   "id": "c7808834-2efd-4525-8655-9ef3b060f8ef",
   "metadata": {},
   "outputs": [],
   "source": []
  }
 ],
 "metadata": {
  "kernelspec": {
   "display_name": "COM278",
   "language": "python",
   "name": "com278"
  },
  "language_info": {
   "codemirror_mode": {
    "name": "ipython",
    "version": 3
   },
   "file_extension": ".py",
   "mimetype": "text/x-python",
   "name": "python",
   "nbconvert_exporter": "python",
   "pygments_lexer": "ipython3",
   "version": "3.11.5"
  }
 },
 "nbformat": 4,
 "nbformat_minor": 5
}
