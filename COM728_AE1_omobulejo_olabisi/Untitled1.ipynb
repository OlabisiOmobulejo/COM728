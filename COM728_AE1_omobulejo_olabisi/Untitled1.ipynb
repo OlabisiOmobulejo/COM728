{
 "cells": [
  {
   "cell_type": "code",
   "execution_count": null,
   "id": "5348bf33",
   "metadata": {},
   "outputs": [
    {
     "name": "stdout",
     "output_type": "stream",
     "text": [
      "device_features.csv is now open for read\n"
     ]
    }
   ],
   "source": [
    "# Import csv library\n",
    "\n",
    "import csv\n",
    "\n",
    "# define a file name\n",
    "\n",
    "file_name = \"device_features.csv\"\n",
    "\n",
    "# Open the test.csv file but test.csv does not exist however \n",
    "try:\n",
    "    with open(file_name,encoding='UTF-8') as csv_file:\n",
    "        print(f\"{file_name} is now open for read\")\n",
    "        \n",
    "        #read from the csv file\n",
    "        csv_reader = csv.reader(csv_file)\n",
    "        \n",
    "        #accept input from the user - oem_id\n",
    "        oem_id = input(\"please enter the oem_id\")\n",
    "        \n",
    "        result =[]\n",
    "        # Display rows where user input matches oem_id\n",
    "\n",
    "\n",
    "        for row in csv_reader:\n",
    "            if(oem_id.lower() == row[0].lower()):\n",
    "                result.append({ \n",
    "                    \"oem_id\": row[0],\n",
    "                    \"Releaded_date\" : row[3],\n",
    "                    \"Annouced_date\" : row [15],\n",
    "                    \"Dimension\" : row [13],\n",
    "                    \"Device_Category\" :row  [9]\n",
    "                               \n",
    "                              \n",
    "                              })       \n",
    "                print(result)\n",
    "        \n",
    "    \n",
    "except IOError:\n",
    "    print(\"Cannot read file.\")\n"
   ]
  },
  {
   "cell_type": "code",
   "execution_count": null,
   "id": "e2ede6fd",
   "metadata": {},
   "outputs": [],
   "source": []
  }
 ],
 "metadata": {
  "kernelspec": {
   "display_name": "COM278",
   "language": "python",
   "name": "com278"
  },
  "language_info": {
   "codemirror_mode": {
    "name": "ipython",
    "version": 3
   },
   "file_extension": ".py",
   "mimetype": "text/x-python",
   "name": "python",
   "nbconvert_exporter": "python",
   "pygments_lexer": "ipython3",
   "version": "3.11.5"
  }
 },
 "nbformat": 4,
 "nbformat_minor": 5
}
