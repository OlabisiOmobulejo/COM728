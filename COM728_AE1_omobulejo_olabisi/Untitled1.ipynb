{
 "cells": [
  {
   "cell_type": "code",
   "execution_count": 16,
   "id": "211c2b61",
   "metadata": {},
   "outputs": [
    {
     "name": "stdout",
     "output_type": "stream",
     "text": [
      "device_features.csv is now open for read\n",
      "please enter the oem_idmc400\n",
      "[{'Brand': 'Motorola', 'Model': 'Moto G53 5G 2022 Premium Edition TD-LTE LATAM 128GB XT2335-1', 'Manufacture': 'Lenovo', 'price': '4999', 'Price_currency': 'MXN'}]\n",
      "[{'Brand': 'Motorola', 'Model': 'Moto G53 5G 2022 Premium Edition TD-LTE LATAM 128GB XT2335-1', 'Manufacture': 'Lenovo', 'price': '4999', 'Price_currency': 'MXN'}, {'Brand': 'Motorola', 'Model': 'Moto G53 5G 2022 Standard Edition Dual SIM TD-LTE LATAM 128GB XT2335-1', 'Manufacture': 'Lenovo', 'price': '1899', 'Price_currency': 'BRL'}]\n"
     ]
    }
   ],
   "source": [
    "# Import csv library\n",
    "\n",
    "import csv\n",
    "\n",
    "# define a file name\n",
    "\n",
    "file_name = \"device_features.csv\"\n",
    "\n",
    "# Open the test.csv file but test.csv does not exist however \n",
    "try:\n",
    "    with open(file_name,encoding='UTF-8') as csv_file:\n",
    "        print(f\"{file_name} is now open for read\")\n",
    "        \n",
    "        #read from the csv file\n",
    "        csv_reader = csv.reader(csv_file)\n",
    "        \n",
    "        #accept input from the user - oem_id\n",
    "        oem_id = input(\"please enter the oem_id\")\n",
    "        \n",
    "        result =[]\n",
    "        # Display rows where user input matches oem_id\n",
    "\n",
    "\n",
    "        for row in csv_reader:\n",
    "            if(oem_id.lower() == row[0].lower()):\n",
    "                result.append({ \n",
    "                    \"Brand\": row[1],\n",
    "                    \"Model\" : row[2],\n",
    "                    \"Manufacture\" : row [6],\n",
    "                    \"price\" : row [15],\n",
    "                    \"Price_currency\" :row  [16]\n",
    "                               \n",
    "                              \n",
    "                              })       \n",
    "                print(result)\n",
    "        \n",
    "    \n",
    "except IOError:\n",
    "    print(\"Cannot read file.\")\n"
   ]
  },
  {
   "cell_type": "code",
   "execution_count": 20,
   "id": "e4915bab",
   "metadata": {},
   "outputs": [
    {
     "ename": "ModuleNotFoundError",
     "evalue": "No module named 'pandas'",
     "output_type": "error",
     "traceback": [
      "\u001b[0;31m---------------------------------------------------------------------------\u001b[0m",
      "\u001b[0;31mModuleNotFoundError\u001b[0m                       Traceback (most recent call last)",
      "Cell \u001b[0;32mIn[20], line 2\u001b[0m\n\u001b[1;32m      1\u001b[0m \u001b[38;5;28;01mimport\u001b[39;00m \u001b[38;5;21;01mcsv\u001b[39;00m\n\u001b[0;32m----> 2\u001b[0m \u001b[38;5;28;01mimport\u001b[39;00m \u001b[38;5;21;01mpandas\u001b[39;00m \u001b[38;5;28;01mas\u001b[39;00m \u001b[38;5;21;01mpd\u001b[39;00m\n\u001b[1;32m      5\u001b[0m file_name \u001b[38;5;241m=\u001b[39m \u001b[38;5;124m\"\u001b[39m\u001b[38;5;124mdevice_features.csv\u001b[39m\u001b[38;5;124m\"\u001b[39m\n\u001b[1;32m      6\u001b[0m df_devices \u001b[38;5;241m=\u001b[39m pd\u001b[38;5;241m.\u001b[39mread_csv(file_name)\n",
      "\u001b[0;31mModuleNotFoundError\u001b[0m: No module named 'pandas'"
     ]
    }
   ],
   "source": [
    "import csv\n",
    "import pandas as pd\n",
    "\n",
    "\n",
    "file_name = \"device_features.csv\"\n",
    "df_devices = pd.read_csv(file_name)\n",
    "code_name = input(\"Please enter the code name: \")\n",
    "selected_devices = df_devices[df_devices['codename'] == code_name]\n",
    "selected_devices = selected_devices[['brand','model','ram_capacity', 'market_regions']]\n",
    "selected_devices\n",
    "\n",
    "# file_name = \"device_features.csv\"  brand, model name, RAM capacity, market regions, "
   ]
  },
  {
   "cell_type": "code",
   "execution_count": null,
   "id": "ea15bcaa",
   "metadata": {},
   "outputs": [],
   "source": []
  }
 ],
 "metadata": {
  "kernelspec": {
   "display_name": "COM278",
   "language": "python",
   "name": "com278"
  },
  "language_info": {
   "codemirror_mode": {
    "name": "ipython",
    "version": 3
   },
   "file_extension": ".py",
   "mimetype": "text/x-python",
   "name": "python",
   "nbconvert_exporter": "python",
   "pygments_lexer": "ipython3",
   "version": "3.11.5"
  }
 },
 "nbformat": 4,
 "nbformat_minor": 5
}
