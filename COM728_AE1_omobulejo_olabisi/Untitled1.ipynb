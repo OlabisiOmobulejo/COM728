{
 "cells": [
  {
   "cell_type": "markdown",
   "id": "cd45823f",
   "metadata": {},
   "source": [
    "## IMPORTING AND READING FROM THE CSV FILE USING THE OEM ID"
   ]
  },
  {
   "cell_type": "markdown",
   "id": "6893eb89-1394-4a5b-ba9f-cbbfb5d0fec4",
   "metadata": {},
   "source": [
    "Import csv library\n",
    "\n",
    "import csv\n",
    "\n",
    "# define a file name\n",
    "\n",
    "file_name = \"device_features.csv\"\n",
    "\n",
    "# Open the test.csv file but test.csv does not exist however \n",
    "try:\n",
    "    with open(file_name,encoding='UTF-8') as csv_file:\n",
    "        print(f\"{file_name} is now open for read\")\n",
    "        \n",
    "        #read from the csv file\n",
    "        csv_reader = csv.reader(csv_file)\n",
    "        \n",
    "        #accept input from the user - oem_id\n",
    "        oem_id = input(\"please enter the oem_id\")\n",
    "        \n",
    "        result =[]\n",
    "        # Display rows where user input matches oem_id\n",
    "\n",
    "\n",
    "        for row in csv_reader:\n",
    "            if(oem_id.lower() == row[0].lower()):\n",
    "                result.append({ \n",
    "                    \"Brand\": row[1],\n",
    "                    \"Model\" : row[2],\n",
    "                    \"Manufacture\" : row [6],\n",
    "                    \"price\" : row [15],\n",
    "                    \"Price_currency\" :row  [16]\n",
    "                               \n",
    "                              \n",
    "                              })       \n",
    "                print(result)\n",
    "        \n",
    "    \n",
    "except IOError:\n",
    "    print(\"Cannot read file.\")\n"
   ]
  },
  {
   "cell_type": "markdown",
   "id": "01839cc5-4608-455a-a16c-98a465d170ba",
   "metadata": {},
   "source": [
    "##  RETREIVING BRAND,MODEL,RAM CAPACITY,MARKET REGION, INFORMATION USING CODE NAME"
   ]
  },
  {
   "cell_type": "code",
   "execution_count": 54,
   "id": "9a51c07c",
   "metadata": {},
   "outputs": [
    {
     "name": "stdout",
     "output_type": "stream",
     "text": [
      "device_features.csv is now open for read\n"
     ]
    },
    {
     "name": "stdin",
     "output_type": "stream",
     "text": [
      "please enter the code name had orion\n"
     ]
    },
    {
     "name": "stdout",
     "output_type": "stream",
     "text": [
      "[]\n"
     ]
    }
   ],
   "source": [
    "import csv\n",
    "\n",
    "file_name = \"device_features.csv\"\n",
    "\n",
    "try:\n",
    "    with open(file_name, encoding='UTF-8') as csv_file:\n",
    "        print(f\"{file_name} is now open for read\")\n",
    "        \n",
    "        csv_reader = csv.reader(csv_file)\n",
    "        \n",
    "        Codename = input(\"please enter the code name\")\n",
    "        \n",
    "        result = []\n",
    "        \n",
    "        for row in csv_reader:\n",
    "            if Codename.lower() == row[0].lower():\n",
    "                result.append({ \n",
    "                    \"Brand\": row[1],\n",
    "                    \"Model\": row[2],\n",
    "                    \"Ram_capacity\": row[23],\n",
    "                    \"market_regions\": row[44],\n",
    "                    \"info_added_date\": row[45]\n",
    "                })       \n",
    "        print(result)\n",
    "    \n",
    "except IOError:\n",
    "    print(\"Cannot read file.\")\n",
    "\n"
   ]
  },
  {
   "cell_type": "markdown",
   "id": "82693397-15fc-4efe-9295-fc4f0214899c",
   "metadata": {},
   "source": [
    "## RETRIEVING INFORMATION BASED RAM CAPACITY"
   ]
  },
  {
   "cell_type": "code",
   "execution_count": 63,
   "id": "0f146b05-e2bd-4b94-b7bf-082103240822",
   "metadata": {},
   "outputs": [
    {
     "name": "stdin",
     "output_type": "stream",
     "text": [
      "Please enter the RAM capacity:  5000\n"
     ]
    },
    {
     "name": "stdout",
     "output_type": "stream",
     "text": [
      "device_features.csv is now open for read\n",
      "No devices found with RAM capacity 5000\n"
     ]
    }
   ],
   "source": [
    "import csv\n",
    "\n",
    "file_name = \"device_features.csv\"\n",
    "\n",
    "def retrieve_device_info_by_ram_capacity(ram_capacity):\n",
    "    try:\n",
    "        with open(file_name, encoding='UTF-8') as csv_file:\n",
    "            print(f\"{file_name} is now open for read\")\n",
    "            \n",
    "            csv_reader = csv.reader(csv_file)\n",
    "            \n",
    "            # Initialize a list to store matching devices\n",
    "            matching_devices = []\n",
    "            \n",
    "            for row in csv_reader:\n",
    "                # Check if the row has data and matches the RAM capacity\n",
    "                if len(row) > 0 and row[23].lower() == ram_capacity.lower():\n",
    "                    device_info = {\n",
    "                        \"oem_id\": row[10],          # Retrieve oem_id\n",
    "                        \"release_date\": row[46],    # Retrieve release date\n",
    "                        \"announcement_date\": row[47], # Retrieve announcement date\n",
    "                        \"dimensions\": row[25],     # Retrieve dimensions\n",
    "                        \"device_category\": row[5]  # Retrieve device category\n",
    "                    }\n",
    "                    matching_devices.append(device_info)\n",
    "            \n",
    "            if matching_devices:\n",
    "                # Displaying the output retrieved device information\n",
    "                print(\"Devices with RAM capacity\", ram_capacity)\n",
    "                for device in matching_devices:\n",
    "                    print(device)\n",
    "            else:\n",
    "                print(\"No devices found with RAM capacity\", ram_capacity)\n",
    "        \n",
    "    except IOError:\n",
    "        print(\"Cannot read file.\")\n",
    "\n",
    "# Prompt user for RAM capacity input\n",
    "ram_capacity_input = input(\"Please enter the RAM capacity: \")\n",
    "\n",
    "# Call the function to retrieve device information based on RAM capacity\n",
    "retrieve_device_info_by_ram_capacity(ram_capacity_input)\n"
   ]
  },
  {
   "cell_type": "markdown",
   "id": "f0686073-4b13-45bb-8a16-a2650ed721c8",
   "metadata": {},
   "source": [
    "## RETREIVING INFORMATION USING THE CPU COLUMN"
   ]
  },
  {
   "cell_type": "code",
   "execution_count": 58,
   "id": "d38dcb76-2440-41d7-bb43-20510b780824",
   "metadata": {},
   "outputs": [
    {
     "name": "stdin",
     "output_type": "stream",
     "text": [
      "Please enter the CPU model:  Qualcomm Snapdragon 8 Gen 2 5G SM8550-AB (Kalama), 2022, 64 bit, octa-core, 8192 Kbyte L3, 4 nm, Qualcomm Adreno 740 GPU\n"
     ]
    },
    {
     "name": "stdout",
     "output_type": "stream",
     "text": [
      "device_features.csv is now open for read\n",
      "No devices found with CPU model 'Qualcomm Snapdragon 8 Gen 2 5G SM8550-AB (Kalama), 2022, 64 bit, octa-core, 8192 Kbyte L3, 4 nm, Qualcomm Adreno 740 GPU'\n"
     ]
    }
   ],
   "source": [
    "import csv\n",
    "\n",
    "file_name = \"device_features.csv\"\n",
    "\n",
    "def retrieve_device_info_by_cpu(cpu_model):\n",
    "    try:\n",
    "        with open(file_name, encoding='UTF-8') as csv_file:\n",
    "            print(f\"{file_name} is now open for read\")\n",
    "            \n",
    "            csv_reader = csv.reader(csv_file)\n",
    "            \n",
    "            matching_devices = []\n",
    "            \n",
    "            for row in csv_reader:\n",
    "                if len(row) > 0 and cpu_model.lower() in row[22].lower():\n",
    "                    device_info = {\n",
    "                        \"Model Name\": row[2],       # Retrieve model name\n",
    "                        \"CPU\": row[22],            # Retrieve CPU\n",
    "                        \"Platform\": row[16],       # Retrieve platform\n",
    "                        \"RAM Type\": row[21]        # Retrieve RAM type\n",
    "                    }\n",
    "                    matching_devices.append(device_info)\n",
    "            \n",
    "            if matching_devices:\n",
    "                print(f\"Devices with CPU model '{cpu_model}':\")\n",
    "                for device in matching_devices:\n",
    "                    print(device)\n",
    "            else:\n",
    "                print(f\"No devices found with CPU model '{cpu_model}'\")\n",
    "        \n",
    "    except IOError:\n",
    "        print(\"Cannot read file.\")\n",
    "\n",
    "# user prompt to enter the cpu model\n",
    "cpu_model_input = input(\"Please enter the CPU model: \")\n",
    "\n",
    "# Call the function to retrieve device information based on CPU model\n",
    "retrieve_device_info_by_cpu(cpu_model_input)\n"
   ]
  },
  {
   "cell_type": "code",
   "execution_count": 71,
   "id": "c7808834-2efd-4525-8655-9ef3b060f8ef",
   "metadata": {},
   "outputs": [
    {
     "name": "stdin",
     "output_type": "stream",
     "text": [
      "Please enter the code name:  HMD Orion\n"
     ]
    },
    {
     "data": {
      "text/html": [
       "<div>\n",
       "<style scoped>\n",
       "    .dataframe tbody tr th:only-of-type {\n",
       "        vertical-align: middle;\n",
       "    }\n",
       "\n",
       "    .dataframe tbody tr th {\n",
       "        vertical-align: top;\n",
       "    }\n",
       "\n",
       "    .dataframe thead th {\n",
       "        text-align: right;\n",
       "    }\n",
       "</style>\n",
       "<table border=\"1\" class=\"dataframe\">\n",
       "  <thead>\n",
       "    <tr style=\"text-align: right;\">\n",
       "      <th></th>\n",
       "      <th>brand</th>\n",
       "      <th>model</th>\n",
       "      <th>ram_capacity</th>\n",
       "      <th>market_regions</th>\n",
       "    </tr>\n",
       "  </thead>\n",
       "  <tbody>\n",
       "    <tr>\n",
       "      <th>17</th>\n",
       "      <td>Nokia</td>\n",
       "      <td>C300 2023 TD-LTE US 32GB</td>\n",
       "      <td>3</td>\n",
       "      <td>North America</td>\n",
       "    </tr>\n",
       "    <tr>\n",
       "      <th>18</th>\n",
       "      <td>Nokia</td>\n",
       "      <td>C300 2023 TD-LTE US 32GB N155DL</td>\n",
       "      <td>3</td>\n",
       "      <td>North America</td>\n",
       "    </tr>\n",
       "  </tbody>\n",
       "</table>\n",
       "</div>"
      ],
      "text/plain": [
       "    brand                            model  ram_capacity market_regions\n",
       "17  Nokia         C300 2023 TD-LTE US 32GB             3  North America\n",
       "18  Nokia  C300 2023 TD-LTE US 32GB N155DL             3  North America"
      ]
     },
     "execution_count": 71,
     "metadata": {},
     "output_type": "execute_result"
    }
   ],
   "source": [
    "import csv \n",
    "import pandas as pd\n",
    "\n",
    "df_devices = pd.read_csv(file_name)\n",
    "code_name = input(\"Please enter the code name: \")\n",
    "selected_devices = df_devices[df_devices['codename'] == code_name]\n",
    "selected_devices = selected_devices[['brand','model','ram_capacity', 'market_regions']]\n",
    "selected_devices\n",
    "\n",
    "# file_name = \"device_features.csv\"  brand, model name, RAM capacity, market regions, "
   ]
  },
  {
   "cell_type": "code",
   "execution_count": 68,
   "id": "5c4b8386-c2e9-48f2-a426-cb8dd49c46fc",
   "metadata": {},
   "outputs": [
    {
     "name": "stdout",
     "output_type": "stream",
     "text": [
      "Top 5 regions where Samsung devices were sold:\n",
      "market_regions\n",
      "North America                                                                                                                                          275\n",
      "Asia                                                                                                                                                   101\n",
      "Asia,Southeast Asia                                                                                                                                     52\n",
      "Africa,Asia,Australia,Central America,Eastern Europe,Europe,Middle East,North America,Oceania,South America,Southeast Asia,Western Europe,Worldwide     11\n",
      "North America,South America                                                                                                                              9\n",
      "Name: count, dtype: int64\n"
     ]
    }
   ],
   "source": [
    "import pandas as pd\n",
    "\n",
    "def top_regions_for_brand(file_name, brand_name):\n",
    "    \"\"\"\n",
    "    Identify the top 5 regions where a specific brand of devices was sold.\n",
    "    \n",
    "    Args:\n",
    "    - file_name: The file path of the CSV file containing device information.\n",
    "    - brand_name: The brand name for which to identify top regions.\n",
    "    \n",
    "    Returns:\n",
    "    - DataFrame: Top 5 regions where the specified brand's devices were sold.\n",
    "    \"\"\"\n",
    "    # Read the CSV file into a DataFrame\n",
    "    df_devices = pd.read_csv(file_name)\n",
    "    \n",
    "    # devices based on the provided brand name\n",
    "    brand_devices = df_devices[df_devices['brand'].str.lower() == brand_name.lower()]\n",
    "    \n",
    "    # Count occurrences of regions for the specified brand\n",
    "    top_regions = brand_devices['market_regions'].value_counts().head(5)\n",
    "    \n",
    "    return top_regions\n",
    "\n",
    "# Define the file path for device information\n",
    "file_name = \"device_features.csv\"\n",
    "\n",
    "# Specify the brand name for analysis\n",
    "brand_name = \"Samsung\"  # users can replace with any brand name \n",
    "\n",
    "# Retrieve top 5 regions for the specified brand\n",
    "top_regions = top_regions_for_brand(file_name, brand_name)\n",
    "\n",
    "# Display the top 5 regions\n",
    "print(f\"Top 5 regions where {brand_name} devices were sold:\")\n",
    "print(top_regions)\n"
   ]
  },
  {
   "cell_type": "code",
   "execution_count": 74,
   "id": "cc7b339d-9207-4d09-ad60-c44876bca956",
   "metadata": {},
   "outputs": [
    {
     "name": "stdout",
     "output_type": "stream",
     "text": [
      "Average price of Samsung devices in USD: $199652.17\n"
     ]
    }
   ],
   "source": [
    "import pandas as pd\n",
    "\n",
    "def average_price_for_brand(file_name, brand_name, target_currency):\n",
    "    df_devices = pd.read_csv(file_name)\n",
    "    \n",
    "    # Filter devices based on the provided brand name\n",
    "    brand_devices = df_devices[df_devices['brand'].str.lower() == brand_name.lower()].copy()\n",
    "    # Using .copy() ensures that we work on a copy of the filtered data, preventing the SettingWithCopyWarning\n",
    "    \n",
    "    conversion_rates = {'USD': 1, 'EUR': 1.12, 'GBP': 1.31}  # Replace with actual rates\n",
    "    \n",
    "    # Convert prices to the target currency for analysis\n",
    "    brand_devices.loc[:, 'price_in_target_currency'] = brand_devices.apply(\n",
    "        lambda row: row['price'] * conversion_rates.get(row['price_currency'], 1), axis=1)\n",
    "    # Using .loc to set values in the original DataFrame directly\n",
    "    \n",
    "    # Calculate the average price for the brand in the target currency\n",
    "    average_price = brand_devices['price_in_target_currency'].mean()\n",
    "    \n",
    "    return average_price\n",
    "\n",
    "# Define the file path for device information\n",
    "file_name = \"device_features.csv\"\n",
    "\n",
    "# Specify the brand name for analysis and the target currency\n",
    "brand_name = \"Samsung\"  # Replace with your desired brand name\n",
    "target_currency = \"USD\"  # Replace with your desired target currency code\n",
    "\n",
    "# Calculate the average price for the specified brand in the target currency\n",
    "avg_price = average_price_for_brand(file_name, brand_name, target_currency)\n",
    "\n",
    "# Display the average price\n",
    "print(f\"Average price of {brand_name} devices in {target_currency}: ${avg_price:.2f}\")\n"
   ]
  },
  {
   "cell_type": "code",
   "execution_count": 75,
   "id": "6f4e1dda-d8d3-442e-a340-0de853539bbd",
   "metadata": {},
   "outputs": [
    {
     "name": "stdout",
     "output_type": "stream",
     "text": [
      "                        manufacturer  weight_gram\n",
      "0                   ASUSTeK Computer   221.367347\n",
      "1                    BBK Electronics   201.000000\n",
      "2          FIH Precision Electronics   203.750000\n",
      "3                            Foxconn   315.147975\n",
      "4                  Hon Hai Precision   144.000000\n",
      "5                     LG Electronics   204.075000\n",
      "6                             Lenovo   216.975904\n",
      "7                     Luxshare iTech    31.605000\n",
      "8                          Microsoft   284.000000\n",
      "9          Rising Stars Mobile India   196.500000\n",
      "10               Samsung Electronics   205.644040\n",
      "11                             Sharp   209.500000\n",
      "12  Shenzhen TINNO Mobile Technology   198.840000\n",
      "13                              Sony   189.363636\n",
      "14                   Wingtech Mobile   204.500000\n",
      "15                            Xiaomi   190.545455\n",
      "16                               ZTE   195.500000\n"
     ]
    }
   ],
   "source": [
    "import pandas as pd\n",
    "\n",
    "# Load data from the CSV file into a DataFrame\n",
    "file_name = \"device_features.csv\"\n",
    "df_devices = pd.read_csv(file_name)\n",
    "\n",
    "# Calculate the average mass for each manufacturer\n",
    "manufacturer_avg_mass = df_devices.groupby('manufacturer')['weight_gram'].mean().reset_index()\n",
    "\n",
    "# Display the list of average masses for all manufacturers\n",
    "print(manufacturer_avg_mass)\n"
   ]
  },
  {
   "cell_type": "code",
   "execution_count": 87,
   "id": "8b3afd31-d71e-4410-85a0-b9a917504fa2",
   "metadata": {},
   "outputs": [
    {
     "ename": "ModuleNotFoundError",
     "evalue": "No module named 'matplotlib'",
     "output_type": "error",
     "traceback": [
      "\u001b[0;31m---------------------------------------------------------------------------\u001b[0m",
      "\u001b[0;31mModuleNotFoundError\u001b[0m                       Traceback (most recent call last)",
      "Cell \u001b[0;32mIn[87], line 2\u001b[0m\n\u001b[1;32m      1\u001b[0m \u001b[38;5;28;01mimport\u001b[39;00m \u001b[38;5;21;01mpandas\u001b[39;00m \u001b[38;5;28;01mas\u001b[39;00m \u001b[38;5;21;01mpd\u001b[39;00m\n\u001b[0;32m----> 2\u001b[0m \u001b[38;5;28;01mimport\u001b[39;00m \u001b[38;5;21;01mmatplotlib\u001b[39;00m\u001b[38;5;21;01m.\u001b[39;00m\u001b[38;5;21;01mpyplot\u001b[39;00m \u001b[38;5;28;01mas\u001b[39;00m \u001b[38;5;21;01mplt\u001b[39;00m\n\u001b[1;32m      4\u001b[0m \u001b[38;5;66;03m# Load data from the CSV file into a DataFrame\u001b[39;00m\n\u001b[1;32m      5\u001b[0m file_name \u001b[38;5;241m=\u001b[39m \u001b[38;5;124m\"\u001b[39m\u001b[38;5;124mdevice_features.csv\u001b[39m\u001b[38;5;124m\"\u001b[39m\n",
      "\u001b[0;31mModuleNotFoundError\u001b[0m: No module named 'matplotlib'"
     ]
    }
   ],
   "source": [
    "import pandas as pd\n",
    "import matplotlib.pyplot as plt\n",
    "\n",
    "# Load data from the CSV file into a DataFrame\n",
    "file_name = \"device_features.csv\"\n",
    "df_devices = pd.read_csv(file_name)\n",
    "\n",
    "# Convert date columns to datetime if needed\n",
    "df_devices['released_date'] = pd.to_datetime(df_devices['released_date'])\n",
    "\n",
    "# Choose a specific year\n",
    "selected_year = 2023\n",
    "\n",
    "# Filter data for the selected year\n",
    "devices_selected_year = df_devices[df_devices['released_date'].dt.year == selected_year]\n",
    "\n",
    "# Group by region and count devices sold in each region\n",
    "devices_by_region = devices_selected_year.groupby('market_regions').size().reset_index(name='devices_count')\n",
    "\n",
    "# Plotting the distribution of devices sold across regions\n",
    "plt.figure(figsize=(10, 6))\n",
    "plt.bar(devices_by_region['market_regions'], devices_by_region['devices_count'], color='skyblue')\n",
    "plt.xlabel('Regions')\n",
    "plt.ylabel('Number of Devices Sold')\n",
    "plt.title(f'Distribution of Devices Sold in {selected_year} across Regions')\n",
    "plt.xticks(rotation=90)\n",
    "plt.tight_layout()\n",
    "plt.show()\n"
   ]
  },
  {
   "cell_type": "code",
   "execution_count": null,
   "id": "07741daa-222f-4152-9b31-46ed5b48c153",
   "metadata": {},
   "outputs": [],
   "source": []
  }
 ],
 "metadata": {
  "kernelspec": {
   "display_name": "COM278",
   "language": "python",
   "name": "com278"
  },
  "language_info": {
   "codemirror_mode": {
    "name": "ipython",
    "version": 3
   },
   "file_extension": ".py",
   "mimetype": "text/x-python",
   "name": "python",
   "nbconvert_exporter": "python",
   "pygments_lexer": "ipython3",
   "version": "3.11.5"
  }
 },
 "nbformat": 4,
 "nbformat_minor": 5
}
