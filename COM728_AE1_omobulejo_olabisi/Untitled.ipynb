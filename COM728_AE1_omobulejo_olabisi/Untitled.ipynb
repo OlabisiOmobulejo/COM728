{
 "cells": [
  {
   "cell_type": "code",
   "execution_count": null,
   "id": "f576139c",
   "metadata": {},
   "outputs": [],
   "source": [
    "import csv\n",
    "\n",
    "file_name = \"device_features.csv\"\n",
    "\n",
    "def menu():\n",
    "    print(\"1. Model Name\")\n",
    "    print(\"2. Manufacturer\")\n",
    "    print(\"3. Weight of the Device\")\n",
    "    print(\"4. Price\")\n",
    "    print(\"5. Currency\")\n",
    "    print(\"6. Exit\")\n",
    "    return input(\"Enter a number to get the information you require: \")\n",
    "\n",
    "def get_device_info(oem_id, choice):\n",
    "    try:\n",
    "        with open(file_name, encoding='UTF-8') as csv_file:\n",
    "            csv_reader = csv.reader(csv_file)\n",
    "            result = []\n",
    "            for row in csv_reader:\n",
    "                if oem_id.lower() == row[0].lower():\n",
    "                    if choice == '1':\n",
    "                        result.append(row[2])  # Model Name\n",
    "                    elif choice == '2':\n",
    "                        result.append(row[6])  # Manufacturer\n",
    "                    elif choice == '3':\n",
    "                        result.append(row[14])  # Weight of the Device\n",
    "                    elif choice == '4':\n",
    "                        result.append(row[15])  # Price\n",
    "                    elif choice == '5':\n",
    "                        result.append(row[16])  # Currency\n",
    "            return result\n",
    "    except IOError:\n",
    "        print(\"Cannot read file.\")\n",
    "\n",
    "while True:\n",
    "    oem_id = input(\"Please enter the OEM ID: \")\n",
    "    choice = menu()\n",
    "\n",
    "    if choice == '6':\n",
    "        print(\"Exiting...\")\n",
    "        break\n",
    "\n",
    "    device_info = get_device_info(oem_id, choice)\n",
    "    \n",
    "    if device_info:\n",
    "        print(device_info)\n",
    "    else:\n",
    "        print(\"Invalid choice or OEM ID. Please try again.\")\n"
   ]
  },
  {
   "cell_type": "code",
   "execution_count": null,
   "id": "11eec7f6",
   "metadata": {},
   "outputs": [],
   "source": []
  }
 ],
 "metadata": {
  "kernelspec": {
   "display_name": "COM278",
   "language": "python",
   "name": "com278"
  },
  "language_info": {
   "codemirror_mode": {
    "name": "ipython",
    "version": 3
   },
   "file_extension": ".py",
   "mimetype": "text/x-python",
   "name": "python",
   "nbconvert_exporter": "python",
   "pygments_lexer": "ipython3",
   "version": "3.11.5"
  }
 },
 "nbformat": 4,
 "nbformat_minor": 5
}
